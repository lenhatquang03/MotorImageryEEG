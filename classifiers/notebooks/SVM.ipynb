{
 "cells": [
  {
   "cell_type": "markdown",
   "id": "4cbe8caa",
   "metadata": {},
   "source": [
    "# **SVM classifier**"
   ]
  },
  {
   "cell_type": "markdown",
   "id": "0b740cec",
   "metadata": {},
   "source": [
    "## **I. Environment setups**"
   ]
  },
  {
   "cell_type": "code",
   "execution_count": 1,
   "id": "321c33ff",
   "metadata": {},
   "outputs": [],
   "source": [
    "import os\n",
    "os.chdir('c:\\\\Users\\\\LENOVO\\\\Desktop\\\\Lab\\\\MotorImageryEEG')"
   ]
  },
  {
   "cell_type": "code",
   "execution_count": null,
   "id": "525e7860",
   "metadata": {},
   "outputs": [],
   "source": [
    "import matplotlib.pyplot as plt\n",
    "import numpy as np\n",
    "from DataFile import DataFile\n",
    "from FeatureExtractor import FTAExtractor\n",
    "from sklearn.svm import SVC\n",
    "from sklearn.preprocessing import StandardScaler\n",
    "from sklearn.model_selection import train_test_split, KFold, cross_validate\n",
    "from sklearn.metrics import accuracy_score, classification_report, confusion_matrix, ConfusionMatrixDisplay"
   ]
  },
  {
   "cell_type": "markdown",
   "id": "6d436d92",
   "metadata": {},
   "source": [
    "# **II. Feature Extraction**"
   ]
  },
  {
   "cell_type": "code",
   "execution_count": 3,
   "id": "6d435936",
   "metadata": {},
   "outputs": [],
   "source": [
    "FILE_PATHS = [\n",
    "    'data\\\\NoMTSubjectF1604220StNoMotor.mat','data\\\\NoMTSubjectH1606280StNoMotor.mat','data\\\\NoMTSubjectI1605120StNoMotor.mat','data\\\\NoMTSubjectJ1610260StNoMotor.mat','data\\\\NoMTSubjectK1610250StNoMotor.mat','data\\\\NoMTSubjectL1610260StNoMotor.mat','data\\\\NoMTSubjectM1611160StNoMotor.mat'\n",
    "]"
   ]
  },
  {
   "cell_type": "code",
   "execution_count": 4,
   "id": "f0e278fd",
   "metadata": {},
   "outputs": [
    {
     "name": "stdout",
     "output_type": "stream",
     "text": [
      "Creating RawArray with float64 data, n_channels=22, n_times=664400\n",
      "    Range : 0 ... 664399 =      0.000 ...  3321.995 secs\n",
      "Ready.\n"
     ]
    },
    {
     "name": "stderr",
     "output_type": "stream",
     "text": [
      "c:\\Users\\LENOVO\\Desktop\\Lab\\MotorImageryEEG\\DataFile.py:295: RuntimeWarning: Limited 1 annotation(s) that were expanding outside the data range.\n",
      "  self.format_data.set_annotations(events)\n"
     ]
    },
    {
     "name": "stdout",
     "output_type": "stream",
     "text": [
      "Creating RawArray with float64 data, n_channels=22, n_times=664600\n",
      "    Range : 0 ... 664599 =      0.000 ...  3322.995 secs\n",
      "Ready.\n"
     ]
    },
    {
     "name": "stderr",
     "output_type": "stream",
     "text": [
      "c:\\Users\\LENOVO\\Desktop\\Lab\\MotorImageryEEG\\DataFile.py:295: RuntimeWarning: Limited 1 annotation(s) that were expanding outside the data range.\n",
      "  self.format_data.set_annotations(events)\n"
     ]
    },
    {
     "name": "stdout",
     "output_type": "stream",
     "text": [
      "Creating RawArray with float64 data, n_channels=22, n_times=662400\n",
      "    Range : 0 ... 662399 =      0.000 ...  3311.995 secs\n",
      "Ready.\n"
     ]
    },
    {
     "name": "stderr",
     "output_type": "stream",
     "text": [
      "c:\\Users\\LENOVO\\Desktop\\Lab\\MotorImageryEEG\\DataFile.py:295: RuntimeWarning: Limited 1 annotation(s) that were expanding outside the data range.\n",
      "  self.format_data.set_annotations(events)\n"
     ]
    },
    {
     "name": "stdout",
     "output_type": "stream",
     "text": [
      "Creating RawArray with float64 data, n_channels=22, n_times=667600\n",
      "    Range : 0 ... 667599 =      0.000 ...  3337.995 secs\n",
      "Ready.\n"
     ]
    },
    {
     "name": "stderr",
     "output_type": "stream",
     "text": [
      "c:\\Users\\LENOVO\\Desktop\\Lab\\MotorImageryEEG\\DataFile.py:295: RuntimeWarning: Limited 1 annotation(s) that were expanding outside the data range.\n",
      "  self.format_data.set_annotations(events)\n"
     ]
    },
    {
     "name": "stdout",
     "output_type": "stream",
     "text": [
      "Creating RawArray with float64 data, n_channels=22, n_times=734400\n",
      "    Range : 0 ... 734399 =      0.000 ...  3671.995 secs\n",
      "Ready.\n"
     ]
    },
    {
     "name": "stderr",
     "output_type": "stream",
     "text": [
      "c:\\Users\\LENOVO\\Desktop\\Lab\\MotorImageryEEG\\DataFile.py:295: RuntimeWarning: Limited 1 annotation(s) that were expanding outside the data range.\n",
      "  self.format_data.set_annotations(events)\n"
     ]
    },
    {
     "name": "stdout",
     "output_type": "stream",
     "text": [
      "Creating RawArray with float64 data, n_channels=22, n_times=667000\n",
      "    Range : 0 ... 666999 =      0.000 ...  3334.995 secs\n",
      "Ready.\n"
     ]
    },
    {
     "name": "stderr",
     "output_type": "stream",
     "text": [
      "c:\\Users\\LENOVO\\Desktop\\Lab\\MotorImageryEEG\\DataFile.py:295: RuntimeWarning: Limited 1 annotation(s) that were expanding outside the data range.\n",
      "  self.format_data.set_annotations(events)\n"
     ]
    },
    {
     "name": "stdout",
     "output_type": "stream",
     "text": [
      "Creating RawArray with float64 data, n_channels=22, n_times=678400\n",
      "    Range : 0 ... 678399 =      0.000 ...  3391.995 secs\n",
      "Ready.\n"
     ]
    },
    {
     "name": "stderr",
     "output_type": "stream",
     "text": [
      "c:\\Users\\LENOVO\\Desktop\\Lab\\MotorImageryEEG\\DataFile.py:295: RuntimeWarning: Limited 1 annotation(s) that were expanding outside the data range.\n",
      "  self.format_data.set_annotations(events)\n"
     ]
    }
   ],
   "source": [
    "DATASETS = []\n",
    "for path in FILE_PATHS:\n",
    "    data_file = DataFile(file_path = path)\n",
    "    data_file.generate()\n",
    "    DATASETS.append(data_file)"
   ]
  },
  {
   "cell_type": "code",
   "execution_count": null,
   "id": "583967dc",
   "metadata": {},
   "outputs": [
    {
     "name": "stdout",
     "output_type": "stream",
     "text": [
      "Used Annotations descriptions: ['blank', 'left hand', 'left leg', 'passive or neutral', 'right hand', 'right leg', 'tongue']\n",
      "Not setting metadata\n",
      "1917 matching events found\n",
      "No baseline correction applied\n",
      "0 projection items activated\n",
      "Using data from preloaded Raw for 1917 events and 171 original time points ...\n",
      "3 bad epochs dropped\n",
      "Used Annotations descriptions: ['blank', 'left hand', 'left leg', 'passive or neutral', 'right hand', 'right leg', 'tongue']\n",
      "Not setting metadata\n",
      "1905 matching events found\n",
      "No baseline correction applied\n",
      "0 projection items activated\n",
      "Using data from preloaded Raw for 1905 events and 171 original time points ...\n",
      "5 bad epochs dropped\n",
      "Used Annotations descriptions: ['blank', 'left hand', 'left leg', 'passive or neutral', 'right hand', 'right leg', 'tongue']\n",
      "Not setting metadata\n",
      "1911 matching events found\n",
      "No baseline correction applied\n",
      "0 projection items activated\n",
      "Using data from preloaded Raw for 1911 events and 171 original time points ...\n",
      "5 bad epochs dropped\n",
      "Used Annotations descriptions: ['blank', 'left hand', 'left leg', 'passive or neutral', 'right hand', 'right leg', 'tongue']\n",
      "Not setting metadata\n",
      "1921 matching events found\n",
      "No baseline correction applied\n",
      "0 projection items activated\n",
      "Using data from preloaded Raw for 1921 events and 171 original time points ...\n",
      "3 bad epochs dropped\n",
      "Used Annotations descriptions: ['blank', 'left hand', 'left leg', 'passive or neutral', 'right hand', 'right leg', 'tongue']\n",
      "Not setting metadata\n",
      "1921 matching events found\n",
      "No baseline correction applied\n",
      "0 projection items activated\n",
      "Using data from preloaded Raw for 1921 events and 171 original time points ...\n",
      "4 bad epochs dropped\n",
      "Used Annotations descriptions: ['blank', 'left hand', 'left leg', 'passive or neutral', 'right hand', 'right leg', 'tongue']\n",
      "Not setting metadata\n",
      "1922 matching events found\n",
      "No baseline correction applied\n",
      "0 projection items activated\n",
      "Using data from preloaded Raw for 1922 events and 171 original time points ...\n",
      "2 bad epochs dropped\n",
      "Used Annotations descriptions: ['blank', 'left hand', 'left leg', 'passive or neutral', 'right hand', 'right leg', 'tongue']\n",
      "Not setting metadata\n",
      "1919 matching events found\n",
      "No baseline correction applied\n",
      "0 projection items activated\n",
      "Using data from preloaded Raw for 1919 events and 171 original time points ...\n",
      "4 bad epochs dropped\n"
     ]
    }
   ],
   "source": [
    "extractor = FTAExtractor(DATASETS)\n",
    "features = extractor.extract()"
   ]
  },
  {
   "cell_type": "markdown",
   "id": "5cbdadd1",
   "metadata": {},
   "source": [
    "## **III. Train and test data**"
   ]
  },
  {
   "cell_type": "code",
   "execution_count": 6,
   "id": "8ec95496",
   "metadata": {},
   "outputs": [
    {
     "data": {
      "text/plain": [
       "((13390, 2709), (13390,))"
      ]
     },
     "execution_count": 6,
     "metadata": {},
     "output_type": "execute_result"
    }
   ],
   "source": [
    "# Dataset\n",
    "X = np.concatenate(features)\n",
    "y = np.concatenate([np.full(features[i].shape[0], i) for i in range(len(features))])\n",
    "X.shape, y.shape"
   ]
  },
  {
   "cell_type": "code",
   "execution_count": 7,
   "id": "1efa56c6",
   "metadata": {},
   "outputs": [],
   "source": [
    "# Split train and test data\n",
    "X_train, X_test, y_train, y_test = train_test_split(X, y, test_size = 0.2, random_state=0)"
   ]
  },
  {
   "cell_type": "code",
   "execution_count": 8,
   "id": "dd57db23",
   "metadata": {},
   "outputs": [],
   "source": [
    "# Feature scaling\n",
    "scaler = StandardScaler()\n",
    "X_train = scaler.fit_transform(X_train)\n",
    "X_test = scaler.transform(X_test)"
   ]
  },
  {
   "cell_type": "markdown",
   "id": "3eea91ea",
   "metadata": {},
   "source": [
    "## **IV. Model**"
   ]
  },
  {
   "cell_type": "code",
   "execution_count": 9,
   "id": "145ad1e3",
   "metadata": {},
   "outputs": [],
   "source": [
    "linear_svc = SVC(kernel = \"linear\")"
   ]
  },
  {
   "cell_type": "markdown",
   "id": "c31ee94d",
   "metadata": {},
   "source": [
    "### **1. K-Fold cross-validation**"
   ]
  },
  {
   "cell_type": "code",
   "execution_count": 10,
   "id": "6d988e34",
   "metadata": {},
   "outputs": [
    {
     "name": "stdout",
     "output_type": "stream",
     "text": [
      "Fold 0: train accuracy =  1.000000 validation accuracy =  0.999067\n",
      "Fold 1: train accuracy =  1.000000 validation accuracy =  0.993000\n",
      "Fold 2: train accuracy =  1.000000 validation accuracy =  0.996732\n",
      "Fold 3: train accuracy =  1.000000 validation accuracy =  0.994398\n",
      "Fold 4: train accuracy =  1.000000 validation accuracy =  0.997199\n",
      "Train accuracy: 1.0000 ± 0.0000\n",
      "Validation accuracy: 0.9961 ± 0.0021\n"
     ]
    }
   ],
   "source": [
    "k_fold = KFold(n_splits = 5, shuffle = True, random_state=0)\n",
    "cv_results = cross_validate(linear_svc, X_train, y_train, cv = k_fold, return_train_score=True)\n",
    "train_scores = cv_results[\"train_score\"]\n",
    "test_scores = cv_results[\"test_score\"]\n",
    "for i in range(5):\n",
    "  print(f\"Fold {i}: train accuracy = {train_scores[i]: 4f} validation accuracy = {test_scores[i]: 4f}\")\n",
    "print(f\"Train accuracy: {np.mean(train_scores):.4f} ± {np.std(train_scores):.4f}\")\n",
    "print(f\"Validation accuracy: {np.mean(test_scores):.4f} ± {np.std(test_scores):.4f}\")"
   ]
  },
  {
   "cell_type": "markdown",
   "id": "982dd68d",
   "metadata": {},
   "source": [
    "### **2. Training and prediction**"
   ]
  },
  {
   "cell_type": "code",
   "execution_count": 11,
   "id": "35fd9fe6",
   "metadata": {},
   "outputs": [
    {
     "name": "stdout",
     "output_type": "stream",
     "text": [
      "Model accuracy score with linear kernel and one-versus-one strategy: 0.9963\n"
     ]
    }
   ],
   "source": [
    "# Train and predict\n",
    "linear_svc.fit(X_train, y_train)\n",
    "y_pred = linear_svc.predict(X_test)\n",
    "print(\"Model accuracy score with linear kernel and one-versus-one strategy: {0:0.4f}\".format(accuracy_score(y_test, y_pred)))"
   ]
  },
  {
   "cell_type": "code",
   "execution_count": 12,
   "id": "ee5356ba",
   "metadata": {},
   "outputs": [
    {
     "name": "stdout",
     "output_type": "stream",
     "text": [
      "Training set score: 1.0000\n",
      "Test set score: 0.9963\n"
     ]
    }
   ],
   "source": [
    "# Train and test accuracy\n",
    "print('Training set score: {:.4f}'.format(linear_svc.score(X_train, y_train)))\n",
    "print('Test set score: {:.4f}'.format(linear_svc.score(X_test, y_test)))"
   ]
  },
  {
   "cell_type": "markdown",
   "id": "ffff190b",
   "metadata": {},
   "source": [
    "### **3. Evaluation**"
   ]
  },
  {
   "cell_type": "code",
   "execution_count": 13,
   "id": "2de53a4f",
   "metadata": {},
   "outputs": [],
   "source": [
    "CLASS_LABELS = [\"Subject F\", \"Subject H\", \"Subject I\", \"Subject J\", \"Subject K\", \"Subject L\", \"Subject M\"]"
   ]
  },
  {
   "cell_type": "code",
   "execution_count": 14,
   "id": "a83f0340",
   "metadata": {},
   "outputs": [
    {
     "data": {
      "image/png": "[encoded data removed]",
      "text/plain": [
       "<Figure size 640x480 with 2 Axes>"
      ]
     },
     "metadata": {},
     "output_type": "display_data"
    }
   ],
   "source": [
    "# Confusion matrix\n",
    "cm = confusion_matrix(y_test, y_pred)\n",
    "disp = ConfusionMatrixDisplay(confusion_matrix=cm, display_labels=CLASS_LABELS)\n",
    "disp.plot(cmap = \"viridis\")\n",
    "plt.xticks(rotation=45) \n",
    "plt.show()"
   ]
  },
  {
   "cell_type": "code",
   "execution_count": 15,
   "id": "32a00f32",
   "metadata": {},
   "outputs": [
    {
     "name": "stdout",
     "output_type": "stream",
     "text": [
      "              precision    recall  f1-score   support\n",
      "\n",
      "   Subject F       0.99      1.00      1.00       357\n",
      "   Subject H       1.00      1.00      1.00       351\n",
      "   Subject I       1.00      0.99      1.00       388\n",
      "   Subject J       0.99      1.00      0.99       390\n",
      "   Subject K       1.00      1.00      1.00       380\n",
      "   Subject L       0.99      1.00      1.00       397\n",
      "   Subject M       1.00      1.00      1.00       415\n",
      "\n",
      "    accuracy                           1.00      2678\n",
      "   macro avg       1.00      1.00      1.00      2678\n",
      "weighted avg       1.00      1.00      1.00      2678\n",
      "\n"
     ]
    }
   ],
   "source": [
    "# Classification report\n",
    "report = classification_report(y_test, y_pred, target_names=CLASS_LABELS)\n",
    "print(report)"
   ]
  },
  {
   "cell_type": "markdown",
   "id": "482128ce",
   "metadata": {},
   "source": [
    "### **4. Save the model**"
   ]
  },
  {
   "cell_type": "code",
   "execution_count": null,
   "id": "c061092c",
   "metadata": {},
   "outputs": [],
   "source": [
    "import joblib\n",
    "joblib.dump(linear_svc, \"classifiers\\\\models\\\\SVM_classifier.joblib\")\n",
    "# model = joblib.load(\"SVM_classifier.joblib\") for later use"
   ]
  }
 ],
 "metadata": {
  "kernelspec": {
   "display_name": "Python 3",
   "language": "python",
   "name": "python3"
  },
  "language_info": {
   "codemirror_mode": {
    "name": "ipython",
    "version": 3
   },
   "file_extension": ".py",
   "mimetype": "text/x-python",
   "name": "python",
   "nbconvert_exporter": "python",
   "pygments_lexer": "ipython3",
   "version": "3.11.1"
  }
 },
 "nbformat": 4,
 "nbformat_minor": 5
}
