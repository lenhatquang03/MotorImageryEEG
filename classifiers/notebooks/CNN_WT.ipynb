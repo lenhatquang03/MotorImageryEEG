{
  "cells": [
    {
      "cell_type": "markdown",
      "metadata": {
        "id": "V_2P0fUlgTcK"
      },
      "source": [
        "# **Information on data acquisition and chosen interaction paradigms**\n",
        "## **Data Acquisition**\n",
        "* **No electromagnetic shielding or artifact control** was attempted for the recordings.\n",
        "* Out of 22 channels used, the 2 ground leads are labeled $A_1$ and $A_2$. $X_3$ is used for data synchronization.\n",
        "* Hardware filters of $0.53 - 70 Hz$ and $0.53 - 100 Hz$ are applied for EEG data recorded at sampling rates of $200 Hz$ and $1000 Hz$ respectively.\n",
        "* A $50Hz$ notch filter is also applied to reduce electrical grid interference.\n",
        "* **No terminal motion and E&M-related interference** occurred during data collection.\n",
        "* **All electrode impedances were below specified levels** at the start and end of the recording session, and no other technical issues were present.\n",
        "* **Post-hoc modifications** of data of any kinds were **not applied** to present researchers with the raw-est data possible.\n",
        "\n",
        "## **NoMT interaction paradigm**\n",
        "* **General description**: Similar to HaLT where 6 mental imageries of passive, left and right-hand, left and right-leg, and toungue movements are implemented but the participants were not asked to react to any visual signals appearing on the eGUI screen and this passively watched the computer screen for the duration of the recording session.\n",
        "* Participants are given 2.5 minutes at the beginning to acclimatize to the recording session's conditions.\n",
        "* Afterwards, each interaction segment is administered for 15 minutes.\n",
        "* 3 BCI interation segments, each with a 2-minute break, form one recording session. During the rest period, participants were **allowed to talk or move** in their chair. The EEG data was continously recorded during rest periods as well. <br>\n",
        "$\\rightarrow$ **EEG data is continuously measured for a total length of 50 - 55 minutes**\n",
        "* Each segment consisted of **a series of BCI interaction trials** in which a visual action signal was shown on eGUI screen to evoke some mental image.\n",
        "* The signal **remains for $1s$** during which time the participant implemented the given mental imagery.\n",
        "* Afterwards, the random duration **off-time of $1.5 - 2.5s$** followed, concluding the trial."
      ]
    },
    {
      "cell_type": "markdown",
      "metadata": {
        "id": "C2Kfb83jDFXk"
      },
      "source": [
        "# **I. Environment setups**"
      ]
    },
    {
      "cell_type": "code",
      "execution_count": 26,
      "metadata": {},
      "outputs": [],
      "source": [
        "import os\n",
        "os.chdir('c:\\\\Users\\\\LENOVO\\\\Desktop\\\\Lab\\\\MotorImageryEEG')"
      ]
    },
    {
      "cell_type": "code",
      "execution_count": 29,
      "metadata": {
        "id": "O70hjwve-MeT"
      },
      "outputs": [],
      "source": [
        "# Necessary libraries\n",
        "from typing import List, Literal\n",
        "from scipy.io import loadmat\n",
        "from datetime import datetime, timezone\n",
        "import matplotlib.pyplot as plt\n",
        "import tensorflow as tf\n",
        "import numpy as np\n",
        "import pandas as pd\n",
        "import regex as re\n",
        "import gc\n",
        "import mne\n",
        "%matplotlib inline\n",
        "\n",
        "# Supporting functions and classes\n",
        "from Utilities import *\n",
        "from DataFile import DataFile\n",
        "from FeatureExtractor import extract_WT_power\n",
        "\n",
        "# For building, training and evaluating model\n",
        "from tensorflow.keras.callbacks import EarlyStopping, ReduceLROnPlateau, ModelCheckpoint\n",
        "from tensorflow.keras.models import Sequential\n",
        "from tensorflow.keras.layers import (\n",
        "    Conv2D, MaxPooling2D, Flatten, Dropout, Dense, InputLayer, BatchNormalization\n",
        ")\n",
        "from tensorflow.keras.optimizers import Adam\n",
        "from tensorflow.keras.regularizers import l2\n",
        "from sklearn.model_selection import train_test_split, KFold, ParameterGrid\n",
        "from sklearn.metrics import classification_report, confusion_matrix, ConfusionMatrixDisplay"
      ]
    },
    {
      "cell_type": "code",
      "execution_count": null,
      "metadata": {},
      "outputs": [],
      "source": [
        "# Constants\n",
        "BATCH_SIZE=64\n",
        "N_CLASSES = 7\n",
        "CLASS_LABELS = [\"Subject F\", \"Subject H\", \"Subject I\", \"Subject J\", \"Subject K\", \"Subject L\", \"Subject M\"]"
      ]
    },
    {
      "cell_type": "markdown",
      "metadata": {
        "id": "IctH1hy2DVsO"
      },
      "source": [
        "# **II. Data extraction and formatting**"
      ]
    },
    {
      "cell_type": "code",
      "execution_count": 5,
      "metadata": {
        "id": "idyp23EShTuh"
      },
      "outputs": [],
      "source": [
        "files = [\n",
        "    'data\\\\NoMTSubjectF1604220StNoMotor.mat',\n",
        "    'data\\\\NoMTSubjectH1606280StNoMotor.mat',\n",
        "    'data\\\\NoMTSubjectI1605120StNoMotor.mat',\n",
        "    'data\\\\NoMTSubjectJ1610260StNoMotor.mat',\n",
        "    'data\\\\NoMTSubjectK1610250StNoMotor.mat',\n",
        "    'data\\\\NoMTSubjectL1610260StNoMotor.mat',\n",
        "    'data\\\\NoMTSubjectM1611160StNoMotor.mat'\n",
        "]"
      ]
    },
    {
      "cell_type": "code",
      "execution_count": null,
      "metadata": {
        "colab": {
          "base_uri": "https://localhost:8080/",
          "height": 408
        },
        "collapsed": true,
        "id": "w5DIPr17JOc0",
        "outputId": "b65e6338-12c7-44e8-c730-44ae2d190b6d"
      },
      "outputs": [
        {
          "name": "stdout",
          "output_type": "stream",
          "text": [
            "Creating RawArray with float64 data, n_channels=22, n_times=664400\n",
            "    Range : 0 ... 664399 =      0.000 ...  3321.995 secs\n",
            "Ready.\n"
          ]
        },
        {
          "name": "stderr",
          "output_type": "stream",
          "text": [
            "C:\\Users\\LENOVO\\AppData\\Local\\Temp\\ipykernel_12720\\772564301.py:285: RuntimeWarning: Limited 1 annotation(s) that were expanding outside the data range.\n",
            "  self.format_data.set_annotations(events)\n"
          ]
        },
        {
          "name": "stdout",
          "output_type": "stream",
          "text": [
            "Creating RawArray with float64 data, n_channels=22, n_times=664600\n",
            "    Range : 0 ... 664599 =      0.000 ...  3322.995 secs\n",
            "Ready.\n"
          ]
        },
        {
          "name": "stderr",
          "output_type": "stream",
          "text": [
            "C:\\Users\\LENOVO\\AppData\\Local\\Temp\\ipykernel_12720\\772564301.py:285: RuntimeWarning: Limited 1 annotation(s) that were expanding outside the data range.\n",
            "  self.format_data.set_annotations(events)\n"
          ]
        },
        {
          "name": "stdout",
          "output_type": "stream",
          "text": [
            "Creating RawArray with float64 data, n_channels=22, n_times=662400\n",
            "    Range : 0 ... 662399 =      0.000 ...  3311.995 secs\n",
            "Ready.\n"
          ]
        },
        {
          "name": "stderr",
          "output_type": "stream",
          "text": [
            "C:\\Users\\LENOVO\\AppData\\Local\\Temp\\ipykernel_12720\\772564301.py:285: RuntimeWarning: Limited 1 annotation(s) that were expanding outside the data range.\n",
            "  self.format_data.set_annotations(events)\n"
          ]
        },
        {
          "name": "stdout",
          "output_type": "stream",
          "text": [
            "Creating RawArray with float64 data, n_channels=22, n_times=667600\n",
            "    Range : 0 ... 667599 =      0.000 ...  3337.995 secs\n",
            "Ready.\n"
          ]
        },
        {
          "name": "stderr",
          "output_type": "stream",
          "text": [
            "C:\\Users\\LENOVO\\AppData\\Local\\Temp\\ipykernel_12720\\772564301.py:285: RuntimeWarning: Limited 1 annotation(s) that were expanding outside the data range.\n",
            "  self.format_data.set_annotations(events)\n"
          ]
        },
        {
          "name": "stdout",
          "output_type": "stream",
          "text": [
            "Creating RawArray with float64 data, n_channels=22, n_times=734400\n",
            "    Range : 0 ... 734399 =      0.000 ...  3671.995 secs\n",
            "Ready.\n"
          ]
        },
        {
          "name": "stderr",
          "output_type": "stream",
          "text": [
            "C:\\Users\\LENOVO\\AppData\\Local\\Temp\\ipykernel_12720\\772564301.py:285: RuntimeWarning: Limited 1 annotation(s) that were expanding outside the data range.\n",
            "  self.format_data.set_annotations(events)\n"
          ]
        },
        {
          "name": "stdout",
          "output_type": "stream",
          "text": [
            "Creating RawArray with float64 data, n_channels=22, n_times=667000\n",
            "    Range : 0 ... 666999 =      0.000 ...  3334.995 secs\n",
            "Ready.\n"
          ]
        },
        {
          "name": "stderr",
          "output_type": "stream",
          "text": [
            "C:\\Users\\LENOVO\\AppData\\Local\\Temp\\ipykernel_12720\\772564301.py:285: RuntimeWarning: Limited 1 annotation(s) that were expanding outside the data range.\n",
            "  self.format_data.set_annotations(events)\n"
          ]
        },
        {
          "name": "stdout",
          "output_type": "stream",
          "text": [
            "Creating RawArray with float64 data, n_channels=22, n_times=678400\n",
            "    Range : 0 ... 678399 =      0.000 ...  3391.995 secs\n",
            "Ready.\n"
          ]
        },
        {
          "name": "stderr",
          "output_type": "stream",
          "text": [
            "C:\\Users\\LENOVO\\AppData\\Local\\Temp\\ipykernel_12720\\772564301.py:285: RuntimeWarning: Limited 1 annotation(s) that were expanding outside the data range.\n",
            "  self.format_data.set_annotations(events)\n"
          ]
        }
      ],
      "source": [
        "datasets = []\n",
        "for file in files:\n",
        "  dataset = DataFile(file_path = file)\n",
        "  dataset.generate()\n",
        "  datasets.append(dataset)"
      ]
    },
    {
      "cell_type": "markdown",
      "metadata": {
        "id": "hLtjBhR2M_2T"
      },
      "source": [
        "# **III.Preprocessing**"
      ]
    },
    {
      "cell_type": "markdown",
      "metadata": {
        "id": "lzIdkhNfNErr"
      },
      "source": [
        "## **1. Filtering**\n",
        "* **ECG artifacts** primarily exist in the $0 - 50Hz$ frequency range, with the strongest component typically below $1 - 2Hz$ due to slow waveforms of cardic activity.\n",
        "* **EOG artifacts** are often in the $0 - 10Hz$ frequency range with the most dominant components in the $0 - 4Hz$ range. <br>\n",
        "$\\rightarrow$ **Unwise to apply any bandpass filter before running ICA for artifact correction. Interested signals in specific frequency band should be extracted later.**"
      ]
    },
    {
      "cell_type": "markdown",
      "metadata": {
        "id": "AX1AO1v_UfEZ"
      },
      "source": [
        "## **2. Re-referencing**"
      ]
    },
    {
      "cell_type": "markdown",
      "metadata": {
        "id": "LdyJ-TKdc3li"
      },
      "source": [
        "The reference point for all recording was \"System 0 V\" as defined by the EEG-1200's technical manual at $0.55 \\times (C_3 + C_4)V$"
      ]
    },
    {
      "cell_type": "markdown",
      "metadata": {
        "id": "HKZh5g6iat2R"
      },
      "source": [
        "## **3. Artifact detection and correction**\n",
        "* With no ECG or EOG channels, artifact-related methods provided by **MNE-Python** are rendered useless. Attempts to generate **synthetic EOG and ECG channels** have proven to be ineffective.\n",
        "* We have to build a method from sratch if only EEG channels are used to correct EOG and ECG artifacts. For now, this process is skipped!"
      ]
    },
    {
      "cell_type": "markdown",
      "metadata": {
        "id": "ToOb1YPlBx0v"
      },
      "source": [
        "# **IV. Feature Extraction**"
      ]
    },
    {
      "cell_type": "markdown",
      "metadata": {
        "id": "SIo4pkWaN6WW"
      },
      "source": [
        "## **1. Epoching data**"
      ]
    },
    {
      "cell_type": "code",
      "execution_count": 7,
      "metadata": {
        "colab": {
          "base_uri": "https://localhost:8080/"
        },
        "collapsed": true,
        "id": "6sK2A7n4Rubv",
        "outputId": "b3bcdaa2-3b4d-4a93-dfda-624654997950"
      },
      "outputs": [
        {
          "name": "stdout",
          "output_type": "stream",
          "text": [
            "Used Annotations descriptions: ['blank', 'left hand', 'left leg', 'passive or neutral', 'right hand', 'right leg', 'tongue']\n",
            "Not setting metadata\n",
            "1917 matching events found\n",
            "Setting baseline interval to [-0.5, 0.0] s\n",
            "Applying baseline correction (mode: mean)\n",
            "0 projection items activated\n",
            "Using data from preloaded Raw for 1917 events and 401 original time points ...\n",
            "9 bad epochs dropped\n",
            "Adding metadata with 3 columns\n",
            "Used Annotations descriptions: ['blank', 'left hand', 'left leg', 'passive or neutral', 'right hand', 'right leg', 'tongue']\n",
            "Not setting metadata\n",
            "1905 matching events found\n",
            "Setting baseline interval to [-0.5, 0.0] s\n",
            "Applying baseline correction (mode: mean)\n",
            "0 projection items activated\n",
            "Using data from preloaded Raw for 1905 events and 401 original time points ...\n",
            "9 bad epochs dropped\n",
            "Adding metadata with 3 columns\n",
            "Used Annotations descriptions: ['blank', 'left hand', 'left leg', 'passive or neutral', 'right hand', 'right leg', 'tongue']\n",
            "Not setting metadata\n",
            "1911 matching events found\n",
            "Setting baseline interval to [-0.5, 0.0] s\n",
            "Applying baseline correction (mode: mean)\n",
            "0 projection items activated\n",
            "Using data from preloaded Raw for 1911 events and 401 original time points ...\n",
            "9 bad epochs dropped\n",
            "Adding metadata with 3 columns\n",
            "Used Annotations descriptions: ['blank', 'left hand', 'left leg', 'passive or neutral', 'right hand', 'right leg', 'tongue']\n",
            "Not setting metadata\n",
            "1921 matching events found\n",
            "Setting baseline interval to [-0.5, 0.0] s\n",
            "Applying baseline correction (mode: mean)\n",
            "0 projection items activated\n",
            "Using data from preloaded Raw for 1921 events and 401 original time points ...\n",
            "9 bad epochs dropped\n",
            "Adding metadata with 3 columns\n",
            "Used Annotations descriptions: ['blank', 'left hand', 'left leg', 'passive or neutral', 'right hand', 'right leg', 'tongue']\n",
            "Not setting metadata\n",
            "1921 matching events found\n",
            "Setting baseline interval to [-0.5, 0.0] s\n",
            "Applying baseline correction (mode: mean)\n",
            "0 projection items activated\n",
            "Using data from preloaded Raw for 1921 events and 401 original time points ...\n",
            "9 bad epochs dropped\n",
            "Adding metadata with 3 columns\n",
            "Used Annotations descriptions: ['blank', 'left hand', 'left leg', 'passive or neutral', 'right hand', 'right leg', 'tongue']\n",
            "Not setting metadata\n",
            "1922 matching events found\n",
            "Setting baseline interval to [-0.5, 0.0] s\n",
            "Applying baseline correction (mode: mean)\n",
            "0 projection items activated\n",
            "Using data from preloaded Raw for 1922 events and 401 original time points ...\n",
            "6 bad epochs dropped\n",
            "Adding metadata with 3 columns\n",
            "Used Annotations descriptions: ['blank', 'left hand', 'left leg', 'passive or neutral', 'right hand', 'right leg', 'tongue']\n",
            "Not setting metadata\n",
            "1919 matching events found\n",
            "Setting baseline interval to [-0.5, 0.0] s\n",
            "Applying baseline correction (mode: mean)\n",
            "0 projection items activated\n",
            "Using data from preloaded Raw for 1919 events and 401 original time points ...\n",
            "9 bad epochs dropped\n",
            "Adding metadata with 3 columns\n"
          ]
        }
      ],
      "source": [
        "epochs_list = []\n",
        "for i in range(len(datasets)):\n",
        "  format_data = datasets[i].format_data\n",
        "  events, event_id = mne.events_from_annotations(format_data)\n",
        "  epochs = mne.Epochs(format_data, events, event_id,\n",
        "                      tmin = -0.5, tmax = 1.5,\n",
        "                      baseline = (None, 0), preload = True)\n",
        "  subject = epochs.info[\"subject_info\"][\"his_id\"]\n",
        "  measurement_date = epochs.info[\"meas_date\"]\n",
        "  epochs.metadata = pd.DataFrame({\"Subject\" : [subject] * len(epochs),\n",
        "                                  \"Measurement Date\" : [measurement_date] * len(epochs),\n",
        "                                  \"Class\" : [i] * len(epochs)})\n",
        "  epochs_list.append(epochs)"
      ]
    },
    {
      "cell_type": "code",
      "execution_count": 8,
      "metadata": {
        "colab": {
          "base_uri": "https://localhost:8080/"
        },
        "collapsed": true,
        "id": "DwOvz_34Wl4W",
        "outputId": "60af52eb-f2fd-4f95-962a-0fa96b502e57"
      },
      "outputs": [
        {
          "name": "stderr",
          "output_type": "stream",
          "text": [
            "C:\\Users\\LENOVO\\AppData\\Local\\Temp\\ipykernel_12720\\917416234.py:2: RuntimeWarning: Concatenation of Annotations within Epochs is not supported yet. All annotations will be dropped.\n",
            "  combined_epochs = mne.concatenate_epochs(epochs_list)\n"
          ]
        },
        {
          "name": "stdout",
          "output_type": "stream",
          "text": [
            "Adding metadata with 3 columns\n",
            "13356 matching events found\n",
            "Applying baseline correction (mode: mean)\n"
          ]
        }
      ],
      "source": [
        "# Combine all epoch together\n",
        "combined_epochs = mne.concatenate_epochs(epochs_list)"
      ]
    },
    {
      "cell_type": "markdown",
      "metadata": {
        "id": "PZ3zh2VokMnf"
      },
      "source": [
        "## **2. Splitting epochs into training and test set**"
      ]
    },
    {
      "cell_type": "code",
      "execution_count": 124,
      "metadata": {
        "id": "fgozmmXzkpzb"
      },
      "outputs": [
        {
          "data": {
            "text/plain": [
              "((10684,), (2672,))"
            ]
          },
          "execution_count": 124,
          "metadata": {},
          "output_type": "execute_result"
        }
      ],
      "source": [
        "idx = np.arange(len(combined_epochs))\n",
        "y = np.array(combined_epochs.metadata[\"Class\"])\n",
        "train_val_idx, test_idx, y_train_val, y_test = train_test_split(\n",
        "    idx, y, test_size = 0.2, stratify = y, random_state = 0\n",
        ")\n",
        "train_val_idx.shape, test_idx.shape"
      ]
    },
    {
      "cell_type": "code",
      "execution_count": 125,
      "metadata": {
        "id": "S0tgJWY0nDtl"
      },
      "outputs": [],
      "source": [
        "train_val_epochs = combined_epochs[train_val_idx]\n",
        "test_epochs = combined_epochs[test_idx]"
      ]
    },
    {
      "cell_type": "markdown",
      "metadata": {
        "id": "A6cO-sXzv2ek"
      },
      "source": [
        "## **3. K-fold cross-validation**"
      ]
    },
    {
      "cell_type": "markdown",
      "metadata": {},
      "source": [
        "**Notes**: *Run the below cell 1 time to generate the extracted features*"
      ]
    },
    {
      "cell_type": "code",
      "execution_count": null,
      "metadata": {
        "colab": {
          "base_uri": "https://localhost:8080/"
        },
        "collapsed": true,
        "id": "o0CX18XOrrho",
        "outputId": "dc5460cc-74b9-4bfd-b846-1314ceb680c3"
      },
      "outputs": [],
      "source": [
        "kfold = KFold(n_splits = 5, shuffle = True, random_state = 0)\n",
        "# Checkpoint to create the training data after K-fold cross-validation\n",
        "create_final_train_data = True\n",
        "\n",
        "# Create storing directories\n",
        "os.makedirs(\"data\\\\wavelet_features\\\\final_train\")\n",
        "os.makedirs(\"data\\\\wavelet_features\\\\test\")\n",
        "for i, (train_idx, val_idx) in enumerate(kfold.split(train_val_epochs, y_train_val)):\n",
        "  directory = f\"data\\\\wavelet_features\\\\fold_{i+1}\"\n",
        "  os.makedirs(directory)\n",
        "  \n",
        "  train_epochs, val_epochs = train_val_epochs[train_idx], train_val_epochs[val_idx]\n",
        "  # Validation targets\n",
        "  y_val = y_train_val[val_idx]\n",
        "  np.save(f\"{directory}\\\\val_target.npy\", y_val.astype(np.int8))\n",
        "  # Add Gaussian noise to our train data only\n",
        "  noisy_epochs = add_gaussian_noise(train_epochs)\n",
        "  # Double our training data with the noisy epochs and shuffle them\n",
        "  noisy_train_epochs = mne.concatenate_epochs([train_epochs, noisy_epochs])\n",
        "  shuffled_epochs = shuffle_epochs(noisy_train_epochs)\n",
        "  # Train targets\n",
        "  y_train = np.array(shuffled_epochs.metadata[\"Class\"])\n",
        "  np.save(f\"{directory}\\\\train_target.npy\", y_train.astype(np.int8))\n",
        "  # Paths to train features and validation features\n",
        "  extract_WT_power(shuffled_epochs, \n",
        "                   directory=directory, \n",
        "                   save_prefix=\"train\")\n",
        "  extract_WT_power(val_epochs, \n",
        "                   directory=directory, \n",
        "                   save_prefix=\"validation\")\n",
        "\n",
        "  if create_final_train_data:\n",
        "    final_train_epochs = mne.concatenate_epochs([noisy_train_epochs, val_epochs])\n",
        "    final_train_epochs = shuffle_epochs(final_train_epochs)\n",
        "    y_final_train = np.array(final_train_epochs.metadata[\"Class\"])\n",
        "    np.save(\"data\\\\wavelet_features\\\\final_train\\\\train_target.npy\", y_final_train.astype(np.int8))\n",
        "    extract_WT_power(final_train_epochs, \n",
        "                     directory=\"data\\\\wavelet_features\\\\final_train\", \n",
        "                     save_prefix=\"final_train\")\n",
        "    create_final_train_data = False"
      ]
    },
    {
      "cell_type": "code",
      "execution_count": 126,
      "metadata": {},
      "outputs": [
        {
          "name": "stdout",
          "output_type": "stream",
          "text": [
            "Processing epochs 0 to 1000\n",
            "NOTE: tfr_morlet() is a legacy function. New code should use .compute_tfr(method=\"morlet\").\n",
            "Processing epochs 1000 to 2000\n",
            "NOTE: tfr_morlet() is a legacy function. New code should use .compute_tfr(method=\"morlet\").\n",
            "Processing epochs 2000 to 2672\n",
            "NOTE: tfr_morlet() is a legacy function. New code should use .compute_tfr(method=\"morlet\").\n"
          ]
        }
      ],
      "source": [
        "extract_WT_power(test_epochs, directory=\"data\\\\wavelet_features\\\\test\", save_prefix=\"test\")\n",
        "np.save(\"data\\\\wavelet_features\\\\test\\\\test_target.npy\", y_test.astype(np.int8))"
      ]
    },
    {
      "cell_type": "markdown",
      "metadata": {
        "id": "UYHv501JxURm"
      },
      "source": [
        "## **4. Load data from batches for model training**"
      ]
    },
    {
      "cell_type": "code",
      "execution_count": 14,
      "metadata": {},
      "outputs": [],
      "source": [
        "kfold_train_paths = [[f\"data\\\\wavelet_features\\\\fold_{j+1}\\\\train\\\\batch_{i+1}.npy\" for i in range(18)] for j in range(5)]\n",
        "kfold_val_paths = [[f\"data\\\\wavelet_features\\\\fold_{j+1}\\\\validation\\\\batch_{i+1}.npy\" for i in range(3)] for j in range(5)]\n",
        "kfold_y_train = [np.load(f\"data\\\\wavelet_features\\\\fold_{i+1}\\\\train_target.npy\") for i in range(5)]\n",
        "kfold_y_val = [np.load(f\"data\\\\wavelet_features\\\\fold_{i+1}\\\\val_target.npy\") for i in range(5)]\n",
        "final_train_paths = [f\"data\\\\wavelet_features\\\\final_train\\\\batch_{i+1}.npy\" for i in range(20)]\n",
        "y_final_train = np.load(f\"data\\\\wavelet_features\\\\final_train\\\\train_target.npy\")\n",
        "test_paths = [f\"data\\\\wavelet_features\\\\test\\\\batch_{i+1}.npy\" for i in range(3)]\n",
        "y_test = np.load(\"data\\\\wavelet_features\\\\test\\\\test_target.npy\")"
      ]
    },
    {
      "cell_type": "markdown",
      "metadata": {},
      "source": [
        "# **V. Training model**"
      ]
    },
    {
      "cell_type": "markdown",
      "metadata": {},
      "source": [
        "## **1. Dataset**"
      ]
    },
    {
      "cell_type": "code",
      "execution_count": null,
      "metadata": {
        "id": "I0ta6ZftGYev"
      },
      "outputs": [],
      "source": [
        "def sample_generator(data_paths : list, labels : np.array):\n",
        "  \"\"\"\n",
        "  Generate one sample at a time from all files specified by data_paths\n",
        "  Due to RAM limitation, we have to split all raw EEG epochs into batches and extract WT features for them CONSECUTIVELY.\n",
        "  Each batch is saved into .npy files right after extraction and memory is released.\n",
        "\n",
        "  Parameters:\n",
        "  ----------\n",
        "  data_paths : list\n",
        "    A list of file directories containing the WT features of epoch batches\n",
        "  labels : np.array\n",
        "    The target vectors for ALL epochs (samples)\n",
        "  \n",
        "  Return:\n",
        "  ----------\n",
        "    Our sample generator of <class 'generator'>\n",
        "  \"\"\"\n",
        "  def generator():\n",
        "    sample_idx = 0\n",
        "    for path in data_paths:\n",
        "      data = np.load(path)\n",
        "      data_size = len(data)\n",
        "      data_labels = labels[sample_idx:(sample_idx + data_size)]\n",
        "      for sample, label in zip(data, data_labels):\n",
        "        yield sample, label\n",
        "      sample_idx += data_size\n",
        "  return generator"
      ]
    },
    {
      "cell_type": "code",
      "execution_count": null,
      "metadata": {
        "id": "eKnRzHeBHARm"
      },
      "outputs": [],
      "source": [
        "def create_dataset(data_paths : list, labels : np.array, batch_size = BATCH_SIZE, shuffle = False) -> tf.data.Dataset:\n",
        "  \"\"\"\n",
        "  Create the type of dataset that can generate samples in each batch to train on the fly\n",
        "\n",
        "  Parameters:\n",
        "  ---------\n",
        "  data_paths : list\n",
        "    A list of file directories containing the WT features of epoch batches\n",
        "  labels : np.array\n",
        "    The target vectors for ALL epochs (samples)\n",
        "  batch_size : int\n",
        "    The number of data batches ready for training, default is 64\n",
        "  shuffle : boolean\n",
        "    Shuffle each batch in each training iteration, defaul to False\n",
        "  \n",
        "  Returns:\n",
        "  ----------\n",
        "  tf.data.Dataset\n",
        "    The dataset ready for model fitting\n",
        "  \"\"\"\n",
        "  output_signature = (\n",
        "      tf.TensorSpec(shape = (18, 134, 21), dtype = tf.float32),\n",
        "      tf.TensorSpec(shape = (), dtype = tf.int32)\n",
        "  )\n",
        "  ds = tf.data.Dataset.from_generator(\n",
        "      sample_generator(data_paths, labels),\n",
        "      output_signature = output_signature\n",
        "  )\n",
        "  if shuffle:\n",
        "    ds = ds.shuffle(buffer_size = 5000, reshuffle_each_iteration = True)\n",
        "\n",
        "  ds = ds.map(lambda X, y: (z_normalize(X), y), num_parallel_calls = tf.data.AUTOTUNE)\n",
        "  ds = ds.batch(batch_size, drop_remainder = True).prefetch(tf.data.AUTOTUNE)\n",
        "  return ds"
      ]
    },
    {
      "cell_type": "markdown",
      "metadata": {},
      "source": [
        "## **2. Model**"
      ]
    },
    {
      "cell_type": "code",
      "execution_count": null,
      "metadata": {},
      "outputs": [],
      "source": [
        "def generate_model(n_filters : int, n_units : int, input_shape = (18, 134, 21), num_classes = N_CLASSES) -> tf.keras.Sequential:\n",
        "    \"\"\" \n",
        "    Build the CNN model with 2 convolutional layers followed by 2 dense layers, each with one dropout layer.\n",
        "    \n",
        "    Parameters:\n",
        "    ----------\n",
        "    n_filters : int\n",
        "        The number of CNN filters in the convolutional layer\n",
        "    n_units : int\n",
        "        The number of units in the dense layer\n",
        "    input_shape : tuple\n",
        "        Shape of the input as a WT-feature epoch in form (n_frequencies, n_times, n_channels), default is (18, 134, 21)\n",
        "    num_classes : int\n",
        "        The number of classes to classifiy\n",
        "    \n",
        "    Returns:\n",
        "    ----------\n",
        "    tf.keras.Sequential\n",
        "        The built CNN model\n",
        "\n",
        "    \"\"\"\n",
        "    model = Sequential([\n",
        "        InputLayer(shape = input_shape),\n",
        "\n",
        "        Conv2D(n_filters, kernel_size=(3, 3), activation = \"relu\", padding = \"same\"),\n",
        "        BatchNormalization(),\n",
        "        MaxPooling2D(),\n",
        "\n",
        "        Conv2D(n_filters * 2, kernel_size = (3, 3), activation = \"relu\", padding = \"same\"),\n",
        "        BatchNormalization(),\n",
        "        MaxPooling2D(),\n",
        "\n",
        "        Flatten(),\n",
        "        Dense(n_units, activation = \"relu\", kernel_regularizer=l2()),\n",
        "        Dropout(0.3),\n",
        "        Dense(n_units // 2, activation=\"relu\"),\n",
        "        Dropout(0.3),\n",
        "        Dense(num_classes, activation = \"softmax\")\n",
        "    ])\n",
        "\n",
        "    model.compile(\n",
        "        optimizer = Adam(),\n",
        "        loss = \"sparse_categorical_crossentropy\",\n",
        "        metrics = [\"accuracy\"]\n",
        "    )\n",
        "\n",
        "    return model"
      ]
    },
    {
      "cell_type": "markdown",
      "metadata": {},
      "source": [
        "## **3. Hyperparameter fine-tuning**"
      ]
    },
    {
      "cell_type": "code",
      "execution_count": null,
      "metadata": {},
      "outputs": [],
      "source": [
        "param_grid = {\n",
        "    'n_filters': [32, 64],\n",
        "    'n_units': [32, 64, 128],\n",
        "}"
      ]
    },
    {
      "cell_type": "code",
      "execution_count": null,
      "metadata": {},
      "outputs": [],
      "source": [
        "best_score = -np.inf\n",
        "# Create a directory to save the model's checkpoint\n",
        "checkpoints_dir = \"classifiers\\\\CNN_checkpoints\"\n",
        "for i in range(5):\n",
        "    os.makedirs(checkpoints_dir + f\"\\\\fold_{i+1}\", exist_ok=True)\n",
        "\n",
        "for params in ParameterGrid(param_grid):\n",
        "    print(f\"Parameters: {params}\")\n",
        "    train_accs = []\n",
        "    val_accs = []\n",
        "\n",
        "    for i in range(5):\n",
        "        train_ds = create_dataset(kfold_train_paths[i], kfold_y_train[i])\n",
        "        train_ds = train_ds.repeat()\n",
        "        val_ds = create_dataset(kfold_val_paths[i], kfold_y_val[i])\n",
        "        val_ds = val_ds.repeat()\n",
        "        model = generate_model(**params)\n",
        "\n",
        "        early_stop = EarlyStopping(monitor=\"val_loss\", \n",
        "                                   patience = 3, \n",
        "                                   restore_best_weights=True)\n",
        "        \n",
        "        lr_reduction = ReduceLROnPlateau(monitor='val_loss',\n",
        "                                        patience=2,\n",
        "                                        verbose=0,\n",
        "                                        factor=0.5,\n",
        "                                        min_lr=0.00001)\n",
        "        \n",
        "        fold_dir = checkpoints_dir + f\"\\\\fold_{i+1}\"\n",
        "        checkpoint_path = os.path.join(fold_dir, \n",
        "                                   f\"fold_{i+1}_model_f{params['n_filters']}_u{params['n_units']}.weights.h5\")\n",
        "        checkpoint = ModelCheckpoint(checkpoint_path,\n",
        "                                     monitor=\"val_loss\",\n",
        "                                     save_best_only=True,\n",
        "                                     save_weights_only=True)\n",
        "        \n",
        "        history = model.fit(train_ds,\n",
        "                            validation_data = val_ds,\n",
        "                            epochs = 20,\n",
        "                            steps_per_epoch = len(kfold_y_train[i]) // BATCH_SIZE,\n",
        "                            validation_steps = len(kfold_y_val[i]) // BATCH_SIZE,\n",
        "                            callbacks = [early_stop, lr_reduction, checkpoint], \n",
        "                            verbose=0)\n",
        "        \n",
        "        train_loss, train_acc = model.evaluate(train_ds, \n",
        "                                               steps = len(kfold_y_train[i]) // BATCH_SIZE, \n",
        "                                               verbose=0)\n",
        "        val_acc = history.history[\"val_accuracy\"][-1]\n",
        "        train_accs.append(train_acc)\n",
        "        val_accs.append(val_acc)\n",
        "        print(f\"Fold {i+1}: train accuracy = {train_acc:.6f}, validation accuracy = {val_acc:.6f}\")\n",
        "    mean_val_acc = np.mean(val_accs)\n",
        "    print(f\"Training accuracy: {np.mean(train_accs):.4f} ± {np.std(train_accs)}\")\n",
        "    print(f\"Validation accuracy: {mean_val_acc:.4f} ± {np.std(val_accs)}\")\n",
        "\n",
        "    # Save the best configuration\n",
        "    if mean_val_acc > best_score:\n",
        "        best_score = mean_val_acc\n",
        "        best_params = params\n",
        "        best_fold_idx = np.argmax(val_accs)\n",
        "        best_fold_dir = checkpoints_dir + f\"fold_{best_fold_idx+1}\"\n",
        "        best_checkpoint_path = os.path.join(\n",
        "            best_fold_dir, f\"fold_{best_fold_idx+1}_model_f{best_params['n_filters']}_u{best_params['n_units']}.weights.h5\"\n",
        "        )"
      ]
    },
    {
      "cell_type": "code",
      "execution_count": 200,
      "metadata": {},
      "outputs": [
        {
          "name": "stdout",
          "output_type": "stream",
          "text": [
            "Best hyperparameteres: {'n_filters': 64, 'n_units': 128}\n",
            "Best checkpoint path: CNN_checkpoints\\fold_2_model_f64_u128.weights.h5\n"
          ]
        }
      ],
      "source": [
        "print(f\"Best hyperparameteres: {best_params}\")\n",
        "print(f\"Best checkpoint path: {best_checkpoint_path}\")\n"
      ]
    },
    {
      "cell_type": "code",
      "execution_count": null,
      "metadata": {},
      "outputs": [
        {
          "data": {
            "text/html": [
              "<pre style=\"white-space:pre;overflow-x:auto;line-height:normal;font-family:Menlo,'DejaVu Sans Mono',consolas,'Courier New',monospace\"><span style=\"font-weight: bold\">Model: \"sequential\"</span>\n",
              "</pre>\n"
            ],
            "text/plain": [
              "\u001b[1mModel: \"sequential\"\u001b[0m\n"
            ]
          },
          "metadata": {},
          "output_type": "display_data"
        },
        {
          "data": {
            "text/html": [
              "<pre style=\"white-space:pre;overflow-x:auto;line-height:normal;font-family:Menlo,'DejaVu Sans Mono',consolas,'Courier New',monospace\">┏━━━━━━━━━━━━━━━━━━━━━━━━━━━━━━━━━┳━━━━━━━━━━━━━━━━━━━━━━━━┳━━━━━━━━━━━━━━━┓\n",
              "┃<span style=\"font-weight: bold\"> Layer (type)                    </span>┃<span style=\"font-weight: bold\"> Output Shape           </span>┃<span style=\"font-weight: bold\">       Param # </span>┃\n",
              "┡━━━━━━━━━━━━━━━━━━━━━━━━━━━━━━━━━╇━━━━━━━━━━━━━━━━━━━━━━━━╇━━━━━━━━━━━━━━━┩\n",
              "│ conv2d (<span style=\"color: #0087ff; text-decoration-color: #0087ff\">Conv2D</span>)                 │ (<span style=\"color: #00d7ff; text-decoration-color: #00d7ff\">None</span>, <span style=\"color: #00af00; text-decoration-color: #00af00\">18</span>, <span style=\"color: #00af00; text-decoration-color: #00af00\">134</span>, <span style=\"color: #00af00; text-decoration-color: #00af00\">64</span>)    │        <span style=\"color: #00af00; text-decoration-color: #00af00\">12,160</span> │\n",
              "├─────────────────────────────────┼────────────────────────┼───────────────┤\n",
              "│ batch_normalization             │ (<span style=\"color: #00d7ff; text-decoration-color: #00d7ff\">None</span>, <span style=\"color: #00af00; text-decoration-color: #00af00\">18</span>, <span style=\"color: #00af00; text-decoration-color: #00af00\">134</span>, <span style=\"color: #00af00; text-decoration-color: #00af00\">64</span>)    │           <span style=\"color: #00af00; text-decoration-color: #00af00\">256</span> │\n",
              "│ (<span style=\"color: #0087ff; text-decoration-color: #0087ff\">BatchNormalization</span>)            │                        │               │\n",
              "├─────────────────────────────────┼────────────────────────┼───────────────┤\n",
              "│ max_pooling2d (<span style=\"color: #0087ff; text-decoration-color: #0087ff\">MaxPooling2D</span>)    │ (<span style=\"color: #00d7ff; text-decoration-color: #00d7ff\">None</span>, <span style=\"color: #00af00; text-decoration-color: #00af00\">9</span>, <span style=\"color: #00af00; text-decoration-color: #00af00\">67</span>, <span style=\"color: #00af00; text-decoration-color: #00af00\">64</span>)      │             <span style=\"color: #00af00; text-decoration-color: #00af00\">0</span> │\n",
              "├─────────────────────────────────┼────────────────────────┼───────────────┤\n",
              "│ conv2d_1 (<span style=\"color: #0087ff; text-decoration-color: #0087ff\">Conv2D</span>)               │ (<span style=\"color: #00d7ff; text-decoration-color: #00d7ff\">None</span>, <span style=\"color: #00af00; text-decoration-color: #00af00\">9</span>, <span style=\"color: #00af00; text-decoration-color: #00af00\">67</span>, <span style=\"color: #00af00; text-decoration-color: #00af00\">128</span>)     │        <span style=\"color: #00af00; text-decoration-color: #00af00\">73,856</span> │\n",
              "├─────────────────────────────────┼────────────────────────┼───────────────┤\n",
              "│ batch_normalization_1           │ (<span style=\"color: #00d7ff; text-decoration-color: #00d7ff\">None</span>, <span style=\"color: #00af00; text-decoration-color: #00af00\">9</span>, <span style=\"color: #00af00; text-decoration-color: #00af00\">67</span>, <span style=\"color: #00af00; text-decoration-color: #00af00\">128</span>)     │           <span style=\"color: #00af00; text-decoration-color: #00af00\">512</span> │\n",
              "│ (<span style=\"color: #0087ff; text-decoration-color: #0087ff\">BatchNormalization</span>)            │                        │               │\n",
              "├─────────────────────────────────┼────────────────────────┼───────────────┤\n",
              "│ max_pooling2d_1 (<span style=\"color: #0087ff; text-decoration-color: #0087ff\">MaxPooling2D</span>)  │ (<span style=\"color: #00d7ff; text-decoration-color: #00d7ff\">None</span>, <span style=\"color: #00af00; text-decoration-color: #00af00\">4</span>, <span style=\"color: #00af00; text-decoration-color: #00af00\">33</span>, <span style=\"color: #00af00; text-decoration-color: #00af00\">128</span>)     │             <span style=\"color: #00af00; text-decoration-color: #00af00\">0</span> │\n",
              "├─────────────────────────────────┼────────────────────────┼───────────────┤\n",
              "│ flatten (<span style=\"color: #0087ff; text-decoration-color: #0087ff\">Flatten</span>)               │ (<span style=\"color: #00d7ff; text-decoration-color: #00d7ff\">None</span>, <span style=\"color: #00af00; text-decoration-color: #00af00\">16896</span>)          │             <span style=\"color: #00af00; text-decoration-color: #00af00\">0</span> │\n",
              "├─────────────────────────────────┼────────────────────────┼───────────────┤\n",
              "│ dense (<span style=\"color: #0087ff; text-decoration-color: #0087ff\">Dense</span>)                   │ (<span style=\"color: #00d7ff; text-decoration-color: #00d7ff\">None</span>, <span style=\"color: #00af00; text-decoration-color: #00af00\">128</span>)            │     <span style=\"color: #00af00; text-decoration-color: #00af00\">2,162,816</span> │\n",
              "├─────────────────────────────────┼────────────────────────┼───────────────┤\n",
              "│ dropout (<span style=\"color: #0087ff; text-decoration-color: #0087ff\">Dropout</span>)               │ (<span style=\"color: #00d7ff; text-decoration-color: #00d7ff\">None</span>, <span style=\"color: #00af00; text-decoration-color: #00af00\">128</span>)            │             <span style=\"color: #00af00; text-decoration-color: #00af00\">0</span> │\n",
              "├─────────────────────────────────┼────────────────────────┼───────────────┤\n",
              "│ dense_1 (<span style=\"color: #0087ff; text-decoration-color: #0087ff\">Dense</span>)                 │ (<span style=\"color: #00d7ff; text-decoration-color: #00d7ff\">None</span>, <span style=\"color: #00af00; text-decoration-color: #00af00\">64</span>)             │         <span style=\"color: #00af00; text-decoration-color: #00af00\">8,256</span> │\n",
              "├─────────────────────────────────┼────────────────────────┼───────────────┤\n",
              "│ dropout_1 (<span style=\"color: #0087ff; text-decoration-color: #0087ff\">Dropout</span>)             │ (<span style=\"color: #00d7ff; text-decoration-color: #00d7ff\">None</span>, <span style=\"color: #00af00; text-decoration-color: #00af00\">64</span>)             │             <span style=\"color: #00af00; text-decoration-color: #00af00\">0</span> │\n",
              "├─────────────────────────────────┼────────────────────────┼───────────────┤\n",
              "│ dense_2 (<span style=\"color: #0087ff; text-decoration-color: #0087ff\">Dense</span>)                 │ (<span style=\"color: #00d7ff; text-decoration-color: #00d7ff\">None</span>, <span style=\"color: #00af00; text-decoration-color: #00af00\">7</span>)              │           <span style=\"color: #00af00; text-decoration-color: #00af00\">455</span> │\n",
              "└─────────────────────────────────┴────────────────────────┴───────────────┘\n",
              "</pre>\n"
            ],
            "text/plain": [
              "┏━━━━━━━━━━━━━━━━━━━━━━━━━━━━━━━━━┳━━━━━━━━━━━━━━━━━━━━━━━━┳━━━━━━━━━━━━━━━┓\n",
              "┃\u001b[1m \u001b[0m\u001b[1mLayer (type)                   \u001b[0m\u001b[1m \u001b[0m┃\u001b[1m \u001b[0m\u001b[1mOutput Shape          \u001b[0m\u001b[1m \u001b[0m┃\u001b[1m \u001b[0m\u001b[1m      Param #\u001b[0m\u001b[1m \u001b[0m┃\n",
              "┡━━━━━━━━━━━━━━━━━━━━━━━━━━━━━━━━━╇━━━━━━━━━━━━━━━━━━━━━━━━╇━━━━━━━━━━━━━━━┩\n",
              "│ conv2d (\u001b[38;5;33mConv2D\u001b[0m)                 │ (\u001b[38;5;45mNone\u001b[0m, \u001b[38;5;34m18\u001b[0m, \u001b[38;5;34m134\u001b[0m, \u001b[38;5;34m64\u001b[0m)    │        \u001b[38;5;34m12,160\u001b[0m │\n",
              "├─────────────────────────────────┼────────────────────────┼───────────────┤\n",
              "│ batch_normalization             │ (\u001b[38;5;45mNone\u001b[0m, \u001b[38;5;34m18\u001b[0m, \u001b[38;5;34m134\u001b[0m, \u001b[38;5;34m64\u001b[0m)    │           \u001b[38;5;34m256\u001b[0m │\n",
              "│ (\u001b[38;5;33mBatchNormalization\u001b[0m)            │                        │               │\n",
              "├─────────────────────────────────┼────────────────────────┼───────────────┤\n",
              "│ max_pooling2d (\u001b[38;5;33mMaxPooling2D\u001b[0m)    │ (\u001b[38;5;45mNone\u001b[0m, \u001b[38;5;34m9\u001b[0m, \u001b[38;5;34m67\u001b[0m, \u001b[38;5;34m64\u001b[0m)      │             \u001b[38;5;34m0\u001b[0m │\n",
              "├─────────────────────────────────┼────────────────────────┼───────────────┤\n",
              "│ conv2d_1 (\u001b[38;5;33mConv2D\u001b[0m)               │ (\u001b[38;5;45mNone\u001b[0m, \u001b[38;5;34m9\u001b[0m, \u001b[38;5;34m67\u001b[0m, \u001b[38;5;34m128\u001b[0m)     │        \u001b[38;5;34m73,856\u001b[0m │\n",
              "├─────────────────────────────────┼────────────────────────┼───────────────┤\n",
              "│ batch_normalization_1           │ (\u001b[38;5;45mNone\u001b[0m, \u001b[38;5;34m9\u001b[0m, \u001b[38;5;34m67\u001b[0m, \u001b[38;5;34m128\u001b[0m)     │           \u001b[38;5;34m512\u001b[0m │\n",
              "│ (\u001b[38;5;33mBatchNormalization\u001b[0m)            │                        │               │\n",
              "├─────────────────────────────────┼────────────────────────┼───────────────┤\n",
              "│ max_pooling2d_1 (\u001b[38;5;33mMaxPooling2D\u001b[0m)  │ (\u001b[38;5;45mNone\u001b[0m, \u001b[38;5;34m4\u001b[0m, \u001b[38;5;34m33\u001b[0m, \u001b[38;5;34m128\u001b[0m)     │             \u001b[38;5;34m0\u001b[0m │\n",
              "├─────────────────────────────────┼────────────────────────┼───────────────┤\n",
              "│ flatten (\u001b[38;5;33mFlatten\u001b[0m)               │ (\u001b[38;5;45mNone\u001b[0m, \u001b[38;5;34m16896\u001b[0m)          │             \u001b[38;5;34m0\u001b[0m │\n",
              "├─────────────────────────────────┼────────────────────────┼───────────────┤\n",
              "│ dense (\u001b[38;5;33mDense\u001b[0m)                   │ (\u001b[38;5;45mNone\u001b[0m, \u001b[38;5;34m128\u001b[0m)            │     \u001b[38;5;34m2,162,816\u001b[0m │\n",
              "├─────────────────────────────────┼────────────────────────┼───────────────┤\n",
              "│ dropout (\u001b[38;5;33mDropout\u001b[0m)               │ (\u001b[38;5;45mNone\u001b[0m, \u001b[38;5;34m128\u001b[0m)            │             \u001b[38;5;34m0\u001b[0m │\n",
              "├─────────────────────────────────┼────────────────────────┼───────────────┤\n",
              "│ dense_1 (\u001b[38;5;33mDense\u001b[0m)                 │ (\u001b[38;5;45mNone\u001b[0m, \u001b[38;5;34m64\u001b[0m)             │         \u001b[38;5;34m8,256\u001b[0m │\n",
              "├─────────────────────────────────┼────────────────────────┼───────────────┤\n",
              "│ dropout_1 (\u001b[38;5;33mDropout\u001b[0m)             │ (\u001b[38;5;45mNone\u001b[0m, \u001b[38;5;34m64\u001b[0m)             │             \u001b[38;5;34m0\u001b[0m │\n",
              "├─────────────────────────────────┼────────────────────────┼───────────────┤\n",
              "│ dense_2 (\u001b[38;5;33mDense\u001b[0m)                 │ (\u001b[38;5;45mNone\u001b[0m, \u001b[38;5;34m7\u001b[0m)              │           \u001b[38;5;34m455\u001b[0m │\n",
              "└─────────────────────────────────┴────────────────────────┴───────────────┘\n"
            ]
          },
          "metadata": {},
          "output_type": "display_data"
        },
        {
          "data": {
            "text/html": [
              "<pre style=\"white-space:pre;overflow-x:auto;line-height:normal;font-family:Menlo,'DejaVu Sans Mono',consolas,'Courier New',monospace\"><span style=\"font-weight: bold\"> Total params: </span><span style=\"color: #00af00; text-decoration-color: #00af00\">2,258,311</span> (8.61 MB)\n",
              "</pre>\n"
            ],
            "text/plain": [
              "\u001b[1m Total params: \u001b[0m\u001b[38;5;34m2,258,311\u001b[0m (8.61 MB)\n"
            ]
          },
          "metadata": {},
          "output_type": "display_data"
        },
        {
          "data": {
            "text/html": [
              "<pre style=\"white-space:pre;overflow-x:auto;line-height:normal;font-family:Menlo,'DejaVu Sans Mono',consolas,'Courier New',monospace\"><span style=\"font-weight: bold\"> Trainable params: </span><span style=\"color: #00af00; text-decoration-color: #00af00\">2,257,927</span> (8.61 MB)\n",
              "</pre>\n"
            ],
            "text/plain": [
              "\u001b[1m Trainable params: \u001b[0m\u001b[38;5;34m2,257,927\u001b[0m (8.61 MB)\n"
            ]
          },
          "metadata": {},
          "output_type": "display_data"
        },
        {
          "data": {
            "text/html": [
              "<pre style=\"white-space:pre;overflow-x:auto;line-height:normal;font-family:Menlo,'DejaVu Sans Mono',consolas,'Courier New',monospace\"><span style=\"font-weight: bold\"> Non-trainable params: </span><span style=\"color: #00af00; text-decoration-color: #00af00\">384</span> (1.50 KB)\n",
              "</pre>\n"
            ],
            "text/plain": [
              "\u001b[1m Non-trainable params: \u001b[0m\u001b[38;5;34m384\u001b[0m (1.50 KB)\n"
            ]
          },
          "metadata": {},
          "output_type": "display_data"
        }
      ],
      "source": [
        "# Check for overfitting\n",
        "best_kfold_model = generate_model(n_filters=64, n_units=128)\n",
        "best_kfold_model.summary()"
      ]
    },
    {
      "cell_type": "markdown",
      "metadata": {},
      "source": [
        "**Notes**: *I forgot to save the history of the K-fold model with the best params and best weights. Here, I train the model again with the best params on the fold with the best validation accuracy.*"
      ]
    },
    {
      "cell_type": "code",
      "execution_count": null,
      "metadata": {},
      "outputs": [
        {
          "name": "stdout",
          "output_type": "stream",
          "text": [
            "Epoch 1/20\n",
            "\u001b[1m267/267\u001b[0m \u001b[32m━━━━━━━━━━━━━━━━━━━━\u001b[0m\u001b[37m\u001b[0m \u001b[1m64s\u001b[0m 240ms/step - accuracy: 0.9763 - loss: 0.5946 - val_accuracy: 0.9867 - val_loss: 0.4797 - learning_rate: 0.0010\n",
            "Epoch 2/20\n",
            "\u001b[1m267/267\u001b[0m \u001b[32m━━━━━━━━━━━━━━━━━━━━\u001b[0m\u001b[37m\u001b[0m \u001b[1m62s\u001b[0m 231ms/step - accuracy: 0.9859 - loss: 0.4247 - val_accuracy: 0.8480 - val_loss: 1.1669 - learning_rate: 0.0010\n",
            "Epoch 3/20\n",
            "\u001b[1m267/267\u001b[0m \u001b[32m━━━━━━━━━━━━━━━━━━━━\u001b[0m\u001b[37m\u001b[0m \u001b[1m62s\u001b[0m 231ms/step - accuracy: 0.9890 - loss: 0.4090 - val_accuracy: 0.9830 - val_loss: 0.3958 - learning_rate: 0.0010\n",
            "Epoch 4/20\n",
            "\u001b[1m267/267\u001b[0m \u001b[32m━━━━━━━━━━━━━━━━━━━━\u001b[0m\u001b[37m\u001b[0m \u001b[1m63s\u001b[0m 236ms/step - accuracy: 0.9845 - loss: 0.4639 - val_accuracy: 0.9891 - val_loss: 0.2702 - learning_rate: 0.0010\n",
            "Epoch 5/20\n",
            "\u001b[1m267/267\u001b[0m \u001b[32m━━━━━━━━━━━━━━━━━━━━\u001b[0m\u001b[37m\u001b[0m \u001b[1m65s\u001b[0m 243ms/step - accuracy: 0.9908 - loss: 0.3290 - val_accuracy: 0.9905 - val_loss: 0.3431 - learning_rate: 0.0010\n",
            "Epoch 6/20\n",
            "\u001b[1m267/267\u001b[0m \u001b[32m━━━━━━━━━━━━━━━━━━━━\u001b[0m\u001b[37m\u001b[0m \u001b[1m58s\u001b[0m 218ms/step - accuracy: 0.9955 - loss: 0.2510 - val_accuracy: 0.9834 - val_loss: 0.4234 - learning_rate: 0.0010\n",
            "Epoch 7/20\n",
            "\u001b[1m267/267\u001b[0m \u001b[32m━━━━━━━━━━━━━━━━━━━━\u001b[0m\u001b[37m\u001b[0m \u001b[1m64s\u001b[0m 239ms/step - accuracy: 0.9956 - loss: 0.2632 - val_accuracy: 0.9976 - val_loss: 0.0824 - learning_rate: 5.0000e-04\n",
            "Epoch 8/20\n",
            "\u001b[1m267/267\u001b[0m \u001b[32m━━━━━━━━━━━━━━━━━━━━\u001b[0m\u001b[37m\u001b[0m \u001b[1m63s\u001b[0m 235ms/step - accuracy: 0.9988 - loss: 0.0653 - val_accuracy: 0.9991 - val_loss: 0.0624 - learning_rate: 5.0000e-04\n",
            "Epoch 9/20\n",
            "\u001b[1m267/267\u001b[0m \u001b[32m━━━━━━━━━━━━━━━━━━━━\u001b[0m\u001b[37m\u001b[0m \u001b[1m64s\u001b[0m 239ms/step - accuracy: 0.9987 - loss: 0.0621 - val_accuracy: 0.9976 - val_loss: 0.0640 - learning_rate: 5.0000e-04\n",
            "Epoch 10/20\n",
            "\u001b[1m267/267\u001b[0m \u001b[32m━━━━━━━━━━━━━━━━━━━━\u001b[0m\u001b[37m\u001b[0m \u001b[1m63s\u001b[0m 236ms/step - accuracy: 0.9973 - loss: 0.0864 - val_accuracy: 0.9976 - val_loss: 0.0828 - learning_rate: 5.0000e-04\n",
            "Epoch 11/20\n",
            "\u001b[1m267/267\u001b[0m \u001b[32m━━━━━━━━━━━━━━━━━━━━\u001b[0m\u001b[37m\u001b[0m \u001b[1m63s\u001b[0m 235ms/step - accuracy: 0.9984 - loss: 0.0698 - val_accuracy: 0.9995 - val_loss: 0.0332 - learning_rate: 2.5000e-04\n",
            "Epoch 12/20\n",
            "\u001b[1m267/267\u001b[0m \u001b[32m━━━━━━━━━━━━━━━━━━━━\u001b[0m\u001b[37m\u001b[0m \u001b[1m63s\u001b[0m 236ms/step - accuracy: 1.0000 - loss: 0.0279 - val_accuracy: 0.9995 - val_loss: 0.0160 - learning_rate: 2.5000e-04\n",
            "Epoch 13/20\n",
            "\u001b[1m267/267\u001b[0m \u001b[32m━━━━━━━━━━━━━━━━━━━━\u001b[0m\u001b[37m\u001b[0m \u001b[1m64s\u001b[0m 238ms/step - accuracy: 0.9997 - loss: 0.0166 - val_accuracy: 0.9995 - val_loss: 0.0178 - learning_rate: 2.5000e-04\n",
            "Epoch 14/20\n",
            "\u001b[1m267/267\u001b[0m \u001b[32m━━━━━━━━━━━━━━━━━━━━\u001b[0m\u001b[37m\u001b[0m \u001b[1m69s\u001b[0m 258ms/step - accuracy: 0.9974 - loss: 0.0571 - val_accuracy: 0.9976 - val_loss: 0.0834 - learning_rate: 2.5000e-04\n",
            "Epoch 15/20\n",
            "\u001b[1m267/267\u001b[0m \u001b[32m━━━━━━━━━━━━━━━━━━━━\u001b[0m\u001b[37m\u001b[0m \u001b[1m68s\u001b[0m 254ms/step - accuracy: 0.9994 - loss: 0.0628 - val_accuracy: 0.9991 - val_loss: 0.0308 - learning_rate: 1.2500e-04\n"
          ]
        }
      ],
      "source": [
        "second_fold = create_dataset(kfold_train_paths[1], kfold_y_train[1])\n",
        "second_fold = second_fold.repeat()\n",
        "fold_val = create_dataset(kfold_val_paths[1], kfold_y_val[1])\n",
        "fold_val = fold_val.repeat()\n",
        "\n",
        "early_stop = EarlyStopping(monitor=\"val_loss\", \n",
        "                            patience = 3, \n",
        "                            restore_best_weights=True)\n",
        "\n",
        "lr_reduction = ReduceLROnPlateau(monitor='val_loss',\n",
        "                                patience=2,\n",
        "                                verbose=0,\n",
        "                                factor=0.5,\n",
        "                                min_lr=0.00001)\n",
        "\n",
        "best_history = best_kfold_model.fit(second_fold,\n",
        "                    validation_data = fold_val,\n",
        "                    epochs = 20,\n",
        "                    steps_per_epoch = len(kfold_y_train[1]) // BATCH_SIZE,\n",
        "                    validation_steps = len(kfold_y_val[1]) // BATCH_SIZE,\n",
        "                    callbacks = [early_stop, lr_reduction], \n",
        "                    verbose=1)"
      ]
    },
    {
      "cell_type": "code",
      "execution_count": null,
      "metadata": {},
      "outputs": [
        {
          "data": {
            "image/png": "[encoded data removed]",
            "text/plain": [
              "<Figure size 1200x500 with 2 Axes>"
            ]
          },
          "metadata": {},
          "output_type": "display_data"
        }
      ],
      "source": [
        "# Visualization\n",
        "acc = best_history.history[\"accuracy\"]\n",
        "val_acc = best_history.history[\"val_accuracy\"]\n",
        "loss = best_history.history['loss']\n",
        "val_loss = best_history.history['val_loss']\n",
        "n_epochs = range(1, len(loss) + 1)\n",
        "\n",
        "# Plot Accuracy\n",
        "plt.figure(figsize=(12, 5))\n",
        "\n",
        "plt.subplot(1, 2, 1)\n",
        "plt.plot(n_epochs, acc, 'bo-', label='Training Accuracy')\n",
        "plt.plot(n_epochs, val_acc, 'ro-', label='Validation Accuracy')\n",
        "plt.title('Training vs Validation Accuracy')\n",
        "plt.xlabel('Epochs')\n",
        "plt.ylabel('Accuracy')\n",
        "plt.legend()\n",
        "\n",
        "# Plot Loss\n",
        "plt.subplot(1, 2, 2)\n",
        "plt.plot(n_epochs, loss, 'bo-', label='Training Loss')\n",
        "plt.plot(n_epochs, val_loss, 'ro-', label='Validation Loss')\n",
        "plt.title('Training vs Validation Loss')\n",
        "plt.xlabel('Epochs')\n",
        "plt.ylabel('Loss')\n",
        "plt.legend()\n",
        "\n",
        "plt.tight_layout()\n",
        "plt.show()"
      ]
    },
    {
      "cell_type": "markdown",
      "metadata": {},
      "source": [
        "## **4. Evaluation**"
      ]
    },
    {
      "cell_type": "code",
      "execution_count": 204,
      "metadata": {},
      "outputs": [],
      "source": [
        "test_ds = create_dataset(test_paths, y_test)"
      ]
    },
    {
      "cell_type": "markdown",
      "metadata": {},
      "source": [
        "### **4.1. K-fold cross-validation model**"
      ]
    },
    {
      "cell_type": "code",
      "execution_count": 277,
      "metadata": {},
      "outputs": [
        {
          "name": "stderr",
          "output_type": "stream",
          "text": [
            "c:\\Users\\LENOVO\\AppData\\Local\\Programs\\Python\\Python311\\Lib\\site-packages\\keras\\src\\saving\\saving_lib.py:396: UserWarning: Skipping variable loading for optimizer 'adam', because it has 2 variables whereas the saved optimizer has 30 variables. \n",
            "  trackable.load_own_variables(weights_store.get(inner_path))\n"
          ]
        }
      ],
      "source": [
        "kfold_model = generate_model(**best_params)\n",
        "kfold_model.load_weights(best_checkpoint_path)"
      ]
    },
    {
      "cell_type": "code",
      "execution_count": 279,
      "metadata": {},
      "outputs": [
        {
          "name": "stdout",
          "output_type": "stream",
          "text": [
            "\u001b[1m267/267\u001b[0m \u001b[32m━━━━━━━━━━━━━━━━━━━━\u001b[0m\u001b[37m\u001b[0m \u001b[1m28s\u001b[0m 102ms/step - accuracy: 1.0000 - loss: 0.0109\n",
            "\u001b[1m33/33\u001b[0m \u001b[32m━━━━━━━━━━━━━━━━━━━━\u001b[0m\u001b[37m\u001b[0m \u001b[1m3s\u001b[0m 94ms/step - accuracy: 0.9981 - loss: 0.0136\n",
            "CV model's train accuracy: 1.0000\n",
            "CV model's train loss: 0.0108\n",
            "CV model's val accuracy: 0.9995\n",
            "CV model's val loss: 0.0123\n"
          ]
        }
      ],
      "source": [
        "# Check for overfit\n",
        "kfold_train = create_dataset(kfold_train_paths[1], kfold_y_train[1])\n",
        "kfold_val = create_dataset(kfold_val_paths[1], kfold_y_val[1])\n",
        "kfold_train_loss, kfold_train_acc = kfold_model.evaluate(kfold_train, steps=len(kfold_y_train[1])//64, verbose=1)\n",
        "kfold_val_loss, kfold_val_acc = kfold_model.evaluate(kfold_val, steps=len(kfold_y_val[1])//64, verbose=1)\n",
        "print(f\"CV model's train accuracy: {kfold_train_acc:.4f}\")\n",
        "print(f\"CV model's train loss: {kfold_train_loss:.4f}\")\n",
        "print(f\"CV model's val accuracy: {kfold_val_acc:.4f}\")\n",
        "print(f\"CV model's val loss: {kfold_val_loss:.4f}\")"
      ]
    },
    {
      "cell_type": "code",
      "execution_count": null,
      "metadata": {},
      "outputs": [
        {
          "name": "stdout",
          "output_type": "stream",
          "text": [
            "CV model's test accuracy: 0.9977133870124817\n",
            "CV model's test loss: 0.03012407198548317\n"
          ]
        }
      ],
      "source": [
        "kfold_results = kfold_model.evaluate(test_ds, steps=len(y_test)//BATCH_SIZE, verbose=1)\n",
        "print(f\"CV model's test accuracy: {kfold_results[1]}\")\n",
        "print(f\"CV model's test loss: {kfold_results[0]}\")"
      ]
    },
    {
      "cell_type": "code",
      "execution_count": null,
      "metadata": {},
      "outputs": [
        {
          "name": "stdout",
          "output_type": "stream",
          "text": [
            "\u001b[1m41/41\u001b[0m \u001b[32m━━━━━━━━━━━━━━━━━━━━\u001b[0m\u001b[37m\u001b[0m \u001b[1m5s\u001b[0m 111ms/step\n"
          ]
        }
      ],
      "source": [
        "kfold_y_pred_probs = model.predict(test_ds, steps=len(y_test)//BATCH_SIZE, verbose=1)\n",
        "kfold_y_pred = np.argmax(kfold_y_pred_probs, axis=1)"
      ]
    },
    {
      "cell_type": "code",
      "execution_count": null,
      "metadata": {},
      "outputs": [
        {
          "data": {
            "image/png": "[encoded data removed]",
            "text/plain": [
              "<Figure size 640x480 with 2 Axes>"
            ]
          },
          "metadata": {},
          "output_type": "display_data"
        }
      ],
      "source": [
        "# Confustion matrix\n",
        "kfold_y_test=y_test[:len(kfold_y_pred)]\n",
        "cm = confusion_matrix(kfold_y_test, kfold_y_pred)\n",
        "disp = ConfusionMatrixDisplay(confusion_matrix=cm, display_labels=CLASS_LABELS)\n",
        "disp.plot(cmap = \"viridis\")\n",
        "plt.xticks(rotation=45) \n",
        "plt.show()"
      ]
    },
    {
      "cell_type": "code",
      "execution_count": null,
      "metadata": {},
      "outputs": [
        {
          "name": "stdout",
          "output_type": "stream",
          "text": [
            "              precision    recall  f1-score   support\n",
            "\n",
            "   Subject F       0.99      0.99      0.99       374\n",
            "   Subject H       0.93      0.94      0.93       368\n",
            "   Subject I       1.00      0.86      0.93       374\n",
            "   Subject J       1.00      0.99      0.99       376\n",
            "   Subject K       0.88      0.99      0.93       377\n",
            "   Subject L       0.99      0.85      0.92       376\n",
            "   Subject M       0.88      0.99      0.93       379\n",
            "\n",
            "    accuracy                           0.95      2624\n",
            "   macro avg       0.95      0.95      0.95      2624\n",
            "weighted avg       0.95      0.95      0.95      2624\n",
            "\n"
          ]
        }
      ],
      "source": [
        "# Classification report\n",
        "report = classification_report(kfold_y_test, kfold_y_pred, target_names=CLASS_LABELS)\n",
        "print(report)"
      ]
    },
    {
      "cell_type": "code",
      "execution_count": 242,
      "metadata": {},
      "outputs": [
        {
          "data": {
            "text/html": [
              "<pre style=\"white-space:pre;overflow-x:auto;line-height:normal;font-family:Menlo,'DejaVu Sans Mono',consolas,'Courier New',monospace\"><span style=\"font-weight: bold\">Model: \"sequential_62\"</span>\n",
              "</pre>\n"
            ],
            "text/plain": [
              "\u001b[1mModel: \"sequential_62\"\u001b[0m\n"
            ]
          },
          "metadata": {},
          "output_type": "display_data"
        },
        {
          "data": {
            "text/html": [
              "<pre style=\"white-space:pre;overflow-x:auto;line-height:normal;font-family:Menlo,'DejaVu Sans Mono',consolas,'Courier New',monospace\">┏━━━━━━━━━━━━━━━━━━━━━━━━━━━━━━━━━┳━━━━━━━━━━━━━━━━━━━━━━━━┳━━━━━━━━━━━━━━━┓\n",
              "┃<span style=\"font-weight: bold\"> Layer (type)                    </span>┃<span style=\"font-weight: bold\"> Output Shape           </span>┃<span style=\"font-weight: bold\">       Param # </span>┃\n",
              "┡━━━━━━━━━━━━━━━━━━━━━━━━━━━━━━━━━╇━━━━━━━━━━━━━━━━━━━━━━━━╇━━━━━━━━━━━━━━━┩\n",
              "│ conv2d_124 (<span style=\"color: #0087ff; text-decoration-color: #0087ff\">Conv2D</span>)             │ (<span style=\"color: #00d7ff; text-decoration-color: #00d7ff\">None</span>, <span style=\"color: #00af00; text-decoration-color: #00af00\">18</span>, <span style=\"color: #00af00; text-decoration-color: #00af00\">134</span>, <span style=\"color: #00af00; text-decoration-color: #00af00\">64</span>)    │        <span style=\"color: #00af00; text-decoration-color: #00af00\">12,160</span> │\n",
              "├─────────────────────────────────┼────────────────────────┼───────────────┤\n",
              "│ batch_normalization_124         │ (<span style=\"color: #00d7ff; text-decoration-color: #00d7ff\">None</span>, <span style=\"color: #00af00; text-decoration-color: #00af00\">18</span>, <span style=\"color: #00af00; text-decoration-color: #00af00\">134</span>, <span style=\"color: #00af00; text-decoration-color: #00af00\">64</span>)    │           <span style=\"color: #00af00; text-decoration-color: #00af00\">256</span> │\n",
              "│ (<span style=\"color: #0087ff; text-decoration-color: #0087ff\">BatchNormalization</span>)            │                        │               │\n",
              "├─────────────────────────────────┼────────────────────────┼───────────────┤\n",
              "│ max_pooling2d_124               │ (<span style=\"color: #00d7ff; text-decoration-color: #00d7ff\">None</span>, <span style=\"color: #00af00; text-decoration-color: #00af00\">9</span>, <span style=\"color: #00af00; text-decoration-color: #00af00\">67</span>, <span style=\"color: #00af00; text-decoration-color: #00af00\">64</span>)      │             <span style=\"color: #00af00; text-decoration-color: #00af00\">0</span> │\n",
              "│ (<span style=\"color: #0087ff; text-decoration-color: #0087ff\">MaxPooling2D</span>)                  │                        │               │\n",
              "├─────────────────────────────────┼────────────────────────┼───────────────┤\n",
              "│ conv2d_125 (<span style=\"color: #0087ff; text-decoration-color: #0087ff\">Conv2D</span>)             │ (<span style=\"color: #00d7ff; text-decoration-color: #00d7ff\">None</span>, <span style=\"color: #00af00; text-decoration-color: #00af00\">9</span>, <span style=\"color: #00af00; text-decoration-color: #00af00\">67</span>, <span style=\"color: #00af00; text-decoration-color: #00af00\">128</span>)     │        <span style=\"color: #00af00; text-decoration-color: #00af00\">73,856</span> │\n",
              "├─────────────────────────────────┼────────────────────────┼───────────────┤\n",
              "│ batch_normalization_125         │ (<span style=\"color: #00d7ff; text-decoration-color: #00d7ff\">None</span>, <span style=\"color: #00af00; text-decoration-color: #00af00\">9</span>, <span style=\"color: #00af00; text-decoration-color: #00af00\">67</span>, <span style=\"color: #00af00; text-decoration-color: #00af00\">128</span>)     │           <span style=\"color: #00af00; text-decoration-color: #00af00\">512</span> │\n",
              "│ (<span style=\"color: #0087ff; text-decoration-color: #0087ff\">BatchNormalization</span>)            │                        │               │\n",
              "├─────────────────────────────────┼────────────────────────┼───────────────┤\n",
              "│ max_pooling2d_125               │ (<span style=\"color: #00d7ff; text-decoration-color: #00d7ff\">None</span>, <span style=\"color: #00af00; text-decoration-color: #00af00\">4</span>, <span style=\"color: #00af00; text-decoration-color: #00af00\">33</span>, <span style=\"color: #00af00; text-decoration-color: #00af00\">128</span>)     │             <span style=\"color: #00af00; text-decoration-color: #00af00\">0</span> │\n",
              "│ (<span style=\"color: #0087ff; text-decoration-color: #0087ff\">MaxPooling2D</span>)                  │                        │               │\n",
              "├─────────────────────────────────┼────────────────────────┼───────────────┤\n",
              "│ flatten_62 (<span style=\"color: #0087ff; text-decoration-color: #0087ff\">Flatten</span>)            │ (<span style=\"color: #00d7ff; text-decoration-color: #00d7ff\">None</span>, <span style=\"color: #00af00; text-decoration-color: #00af00\">16896</span>)          │             <span style=\"color: #00af00; text-decoration-color: #00af00\">0</span> │\n",
              "├─────────────────────────────────┼────────────────────────┼───────────────┤\n",
              "│ dense_173 (<span style=\"color: #0087ff; text-decoration-color: #0087ff\">Dense</span>)               │ (<span style=\"color: #00d7ff; text-decoration-color: #00d7ff\">None</span>, <span style=\"color: #00af00; text-decoration-color: #00af00\">128</span>)            │     <span style=\"color: #00af00; text-decoration-color: #00af00\">2,162,816</span> │\n",
              "├─────────────────────────────────┼────────────────────────┼───────────────┤\n",
              "│ dropout_132 (<span style=\"color: #0087ff; text-decoration-color: #0087ff\">Dropout</span>)           │ (<span style=\"color: #00d7ff; text-decoration-color: #00d7ff\">None</span>, <span style=\"color: #00af00; text-decoration-color: #00af00\">128</span>)            │             <span style=\"color: #00af00; text-decoration-color: #00af00\">0</span> │\n",
              "├─────────────────────────────────┼────────────────────────┼───────────────┤\n",
              "│ dense_174 (<span style=\"color: #0087ff; text-decoration-color: #0087ff\">Dense</span>)               │ (<span style=\"color: #00d7ff; text-decoration-color: #00d7ff\">None</span>, <span style=\"color: #00af00; text-decoration-color: #00af00\">64</span>)             │         <span style=\"color: #00af00; text-decoration-color: #00af00\">8,256</span> │\n",
              "├─────────────────────────────────┼────────────────────────┼───────────────┤\n",
              "│ dropout_133 (<span style=\"color: #0087ff; text-decoration-color: #0087ff\">Dropout</span>)           │ (<span style=\"color: #00d7ff; text-decoration-color: #00d7ff\">None</span>, <span style=\"color: #00af00; text-decoration-color: #00af00\">64</span>)             │             <span style=\"color: #00af00; text-decoration-color: #00af00\">0</span> │\n",
              "├─────────────────────────────────┼────────────────────────┼───────────────┤\n",
              "│ dense_175 (<span style=\"color: #0087ff; text-decoration-color: #0087ff\">Dense</span>)               │ (<span style=\"color: #00d7ff; text-decoration-color: #00d7ff\">None</span>, <span style=\"color: #00af00; text-decoration-color: #00af00\">7</span>)              │           <span style=\"color: #00af00; text-decoration-color: #00af00\">455</span> │\n",
              "└─────────────────────────────────┴────────────────────────┴───────────────┘\n",
              "</pre>\n"
            ],
            "text/plain": [
              "┏━━━━━━━━━━━━━━━━━━━━━━━━━━━━━━━━━┳━━━━━━━━━━━━━━━━━━━━━━━━┳━━━━━━━━━━━━━━━┓\n",
              "┃\u001b[1m \u001b[0m\u001b[1mLayer (type)                   \u001b[0m\u001b[1m \u001b[0m┃\u001b[1m \u001b[0m\u001b[1mOutput Shape          \u001b[0m\u001b[1m \u001b[0m┃\u001b[1m \u001b[0m\u001b[1m      Param #\u001b[0m\u001b[1m \u001b[0m┃\n",
              "┡━━━━━━━━━━━━━━━━━━━━━━━━━━━━━━━━━╇━━━━━━━━━━━━━━━━━━━━━━━━╇━━━━━━━━━━━━━━━┩\n",
              "│ conv2d_124 (\u001b[38;5;33mConv2D\u001b[0m)             │ (\u001b[38;5;45mNone\u001b[0m, \u001b[38;5;34m18\u001b[0m, \u001b[38;5;34m134\u001b[0m, \u001b[38;5;34m64\u001b[0m)    │        \u001b[38;5;34m12,160\u001b[0m │\n",
              "├─────────────────────────────────┼────────────────────────┼───────────────┤\n",
              "│ batch_normalization_124         │ (\u001b[38;5;45mNone\u001b[0m, \u001b[38;5;34m18\u001b[0m, \u001b[38;5;34m134\u001b[0m, \u001b[38;5;34m64\u001b[0m)    │           \u001b[38;5;34m256\u001b[0m │\n",
              "│ (\u001b[38;5;33mBatchNormalization\u001b[0m)            │                        │               │\n",
              "├─────────────────────────────────┼────────────────────────┼───────────────┤\n",
              "│ max_pooling2d_124               │ (\u001b[38;5;45mNone\u001b[0m, \u001b[38;5;34m9\u001b[0m, \u001b[38;5;34m67\u001b[0m, \u001b[38;5;34m64\u001b[0m)      │             \u001b[38;5;34m0\u001b[0m │\n",
              "│ (\u001b[38;5;33mMaxPooling2D\u001b[0m)                  │                        │               │\n",
              "├─────────────────────────────────┼────────────────────────┼───────────────┤\n",
              "│ conv2d_125 (\u001b[38;5;33mConv2D\u001b[0m)             │ (\u001b[38;5;45mNone\u001b[0m, \u001b[38;5;34m9\u001b[0m, \u001b[38;5;34m67\u001b[0m, \u001b[38;5;34m128\u001b[0m)     │        \u001b[38;5;34m73,856\u001b[0m │\n",
              "├─────────────────────────────────┼────────────────────────┼───────────────┤\n",
              "│ batch_normalization_125         │ (\u001b[38;5;45mNone\u001b[0m, \u001b[38;5;34m9\u001b[0m, \u001b[38;5;34m67\u001b[0m, \u001b[38;5;34m128\u001b[0m)     │           \u001b[38;5;34m512\u001b[0m │\n",
              "│ (\u001b[38;5;33mBatchNormalization\u001b[0m)            │                        │               │\n",
              "├─────────────────────────────────┼────────────────────────┼───────────────┤\n",
              "│ max_pooling2d_125               │ (\u001b[38;5;45mNone\u001b[0m, \u001b[38;5;34m4\u001b[0m, \u001b[38;5;34m33\u001b[0m, \u001b[38;5;34m128\u001b[0m)     │             \u001b[38;5;34m0\u001b[0m │\n",
              "│ (\u001b[38;5;33mMaxPooling2D\u001b[0m)                  │                        │               │\n",
              "├─────────────────────────────────┼────────────────────────┼───────────────┤\n",
              "│ flatten_62 (\u001b[38;5;33mFlatten\u001b[0m)            │ (\u001b[38;5;45mNone\u001b[0m, \u001b[38;5;34m16896\u001b[0m)          │             \u001b[38;5;34m0\u001b[0m │\n",
              "├─────────────────────────────────┼────────────────────────┼───────────────┤\n",
              "│ dense_173 (\u001b[38;5;33mDense\u001b[0m)               │ (\u001b[38;5;45mNone\u001b[0m, \u001b[38;5;34m128\u001b[0m)            │     \u001b[38;5;34m2,162,816\u001b[0m │\n",
              "├─────────────────────────────────┼────────────────────────┼───────────────┤\n",
              "│ dropout_132 (\u001b[38;5;33mDropout\u001b[0m)           │ (\u001b[38;5;45mNone\u001b[0m, \u001b[38;5;34m128\u001b[0m)            │             \u001b[38;5;34m0\u001b[0m │\n",
              "├─────────────────────────────────┼────────────────────────┼───────────────┤\n",
              "│ dense_174 (\u001b[38;5;33mDense\u001b[0m)               │ (\u001b[38;5;45mNone\u001b[0m, \u001b[38;5;34m64\u001b[0m)             │         \u001b[38;5;34m8,256\u001b[0m │\n",
              "├─────────────────────────────────┼────────────────────────┼───────────────┤\n",
              "│ dropout_133 (\u001b[38;5;33mDropout\u001b[0m)           │ (\u001b[38;5;45mNone\u001b[0m, \u001b[38;5;34m64\u001b[0m)             │             \u001b[38;5;34m0\u001b[0m │\n",
              "├─────────────────────────────────┼────────────────────────┼───────────────┤\n",
              "│ dense_175 (\u001b[38;5;33mDense\u001b[0m)               │ (\u001b[38;5;45mNone\u001b[0m, \u001b[38;5;34m7\u001b[0m)              │           \u001b[38;5;34m455\u001b[0m │\n",
              "└─────────────────────────────────┴────────────────────────┴───────────────┘\n"
            ]
          },
          "metadata": {},
          "output_type": "display_data"
        },
        {
          "data": {
            "text/html": [
              "<pre style=\"white-space:pre;overflow-x:auto;line-height:normal;font-family:Menlo,'DejaVu Sans Mono',consolas,'Courier New',monospace\"><span style=\"font-weight: bold\"> Total params: </span><span style=\"color: #00af00; text-decoration-color: #00af00\">2,258,311</span> (8.61 MB)\n",
              "</pre>\n"
            ],
            "text/plain": [
              "\u001b[1m Total params: \u001b[0m\u001b[38;5;34m2,258,311\u001b[0m (8.61 MB)\n"
            ]
          },
          "metadata": {},
          "output_type": "display_data"
        },
        {
          "data": {
            "text/html": [
              "<pre style=\"white-space:pre;overflow-x:auto;line-height:normal;font-family:Menlo,'DejaVu Sans Mono',consolas,'Courier New',monospace\"><span style=\"font-weight: bold\"> Trainable params: </span><span style=\"color: #00af00; text-decoration-color: #00af00\">2,257,927</span> (8.61 MB)\n",
              "</pre>\n"
            ],
            "text/plain": [
              "\u001b[1m Trainable params: \u001b[0m\u001b[38;5;34m2,257,927\u001b[0m (8.61 MB)\n"
            ]
          },
          "metadata": {},
          "output_type": "display_data"
        },
        {
          "data": {
            "text/html": [
              "<pre style=\"white-space:pre;overflow-x:auto;line-height:normal;font-family:Menlo,'DejaVu Sans Mono',consolas,'Courier New',monospace\"><span style=\"font-weight: bold\"> Non-trainable params: </span><span style=\"color: #00af00; text-decoration-color: #00af00\">384</span> (1.50 KB)\n",
              "</pre>\n"
            ],
            "text/plain": [
              "\u001b[1m Non-trainable params: \u001b[0m\u001b[38;5;34m384\u001b[0m (1.50 KB)\n"
            ]
          },
          "metadata": {},
          "output_type": "display_data"
        }
      ],
      "source": [
        "# Architecture\n",
        "kfold_model.summary()"
      ]
    },
    {
      "cell_type": "markdown",
      "metadata": {},
      "source": [
        "## **4.2. Fully trained model**"
      ]
    },
    {
      "cell_type": "code",
      "execution_count": 271,
      "metadata": {},
      "outputs": [],
      "source": [
        "# Load the dataset\n",
        "final_train_ds = create_dataset(final_train_paths, y_final_train)\n",
        "final_train_ds = final_train_ds.repeat()"
      ]
    },
    {
      "cell_type": "code",
      "execution_count": null,
      "metadata": {},
      "outputs": [
        {
          "name": "stdout",
          "output_type": "stream",
          "text": [
            "Epoch 1/20\n",
            "\u001b[1m300/300\u001b[0m \u001b[32m━━━━━━━━━━━━━━━━━━━━\u001b[0m\u001b[37m\u001b[0m \u001b[1m104s\u001b[0m 337ms/step - accuracy: 0.7658 - loss: 2.8904 - learning_rate: 0.0010\n",
            "Epoch 2/20\n",
            "\u001b[1m300/300\u001b[0m \u001b[32m━━━━━━━━━━━━━━━━━━━━\u001b[0m\u001b[37m\u001b[0m \u001b[1m106s\u001b[0m 353ms/step - accuracy: 0.9711 - loss: 0.7452 - learning_rate: 0.0010\n",
            "Epoch 3/20\n",
            "\u001b[1m300/300\u001b[0m \u001b[32m━━━━━━━━━━━━━━━━━━━━\u001b[0m\u001b[37m\u001b[0m \u001b[1m104s\u001b[0m 346ms/step - accuracy: 0.9715 - loss: 0.6211 - learning_rate: 0.0010\n",
            "Epoch 4/20\n",
            "\u001b[1m300/300\u001b[0m \u001b[32m━━━━━━━━━━━━━━━━━━━━\u001b[0m\u001b[37m\u001b[0m \u001b[1m99s\u001b[0m 328ms/step - accuracy: 0.9832 - loss: 0.5394 - learning_rate: 0.0010\n",
            "Epoch 5/20\n",
            "\u001b[1m300/300\u001b[0m \u001b[32m━━━━━━━━━━━━━━━━━━━━\u001b[0m\u001b[37m\u001b[0m \u001b[1m69s\u001b[0m 229ms/step - accuracy: 0.9839 - loss: 0.5106 - learning_rate: 0.0010\n",
            "Epoch 6/20\n",
            "\u001b[1m300/300\u001b[0m \u001b[32m━━━━━━━━━━━━━━━━━━━━\u001b[0m\u001b[37m\u001b[0m \u001b[1m65s\u001b[0m 218ms/step - accuracy: 0.9888 - loss: 0.2950 - learning_rate: 0.0010\n",
            "Epoch 7/20\n",
            "\u001b[1m300/300\u001b[0m \u001b[32m━━━━━━━━━━━━━━━━━━━━\u001b[0m\u001b[37m\u001b[0m \u001b[1m64s\u001b[0m 212ms/step - accuracy: 0.9873 - loss: 0.4801 - learning_rate: 0.0010\n",
            "Epoch 8/20\n",
            "\u001b[1m300/300\u001b[0m \u001b[32m━━━━━━━━━━━━━━━━━━━━\u001b[0m\u001b[37m\u001b[0m \u001b[1m63s\u001b[0m 210ms/step - accuracy: 0.9914 - loss: 0.2651 - learning_rate: 0.0010\n",
            "Epoch 9/20\n",
            "\u001b[1m300/300\u001b[0m \u001b[32m━━━━━━━━━━━━━━━━━━━━\u001b[0m\u001b[37m\u001b[0m \u001b[1m63s\u001b[0m 211ms/step - accuracy: 0.9951 - loss: 0.1908 - learning_rate: 5.0000e-04\n",
            "Epoch 10/20\n",
            "\u001b[1m300/300\u001b[0m \u001b[32m━━━━━━━━━━━━━━━━━━━━\u001b[0m\u001b[37m\u001b[0m \u001b[1m63s\u001b[0m 210ms/step - accuracy: 0.9990 - loss: 0.0654 - learning_rate: 5.0000e-04\n",
            "Epoch 11/20\n",
            "\u001b[1m300/300\u001b[0m \u001b[32m━━━━━━━━━━━━━━━━━━━━\u001b[0m\u001b[37m\u001b[0m \u001b[1m65s\u001b[0m 218ms/step - accuracy: 0.9988 - loss: 0.0642 - learning_rate: 5.0000e-04\n",
            "Epoch 12/20\n",
            "\u001b[1m300/300\u001b[0m \u001b[32m━━━━━━━━━━━━━━━━━━━━\u001b[0m\u001b[37m\u001b[0m \u001b[1m91s\u001b[0m 304ms/step - accuracy: 0.9966 - loss: 0.1209 - learning_rate: 5.0000e-04\n",
            "Epoch 13/20\n",
            "\u001b[1m300/300\u001b[0m \u001b[32m━━━━━━━━━━━━━━━━━━━━\u001b[0m\u001b[37m\u001b[0m \u001b[1m91s\u001b[0m 303ms/step - accuracy: 0.9986 - loss: 0.0795 - learning_rate: 2.5000e-04\n"
          ]
        }
      ],
      "source": [
        "# Train the model\n",
        "fully_trained_model = generate_model(**best_params)\n",
        "final_path = os.path.join(\"classifiers\\\\models\", \"CNN_classifiers.weights.h5\")\n",
        "checkpoint = ModelCheckpoint(checkpoint_path,\n",
        "                                monitor=\"loss\",\n",
        "                                save_best_only=True,\n",
        "                                save_weights_only=True)\n",
        "\n",
        "early_stop = EarlyStopping(monitor=\"loss\", patience = 3, restore_best_weights=True)\n",
        "\n",
        "lr_reduction = ReduceLROnPlateau(monitor='loss',\n",
        "                                 patience=2,\n",
        "                                 verbose=0,\n",
        "                                 factor=0.5,\n",
        "                                 min_lr=0.00001)\n",
        "\n",
        "history = fully_trained_model.fit(final_train_ds,\n",
        "                                  epochs = 20,\n",
        "                                  steps_per_epoch=len(y_final_train)//BATCH_SIZE,\n",
        "                                  callbacks = [early_stop, lr_reduction, checkpoint], \n",
        "                                  verbose=1)"
      ]
    },
    {
      "cell_type": "code",
      "execution_count": null,
      "metadata": {},
      "outputs": [
        {
          "name": "stdout",
          "output_type": "stream",
          "text": [
            "\u001b[1m41/41\u001b[0m \u001b[32m━━━━━━━━━━━━━━━━━━━━\u001b[0m\u001b[37m\u001b[0m \u001b[1m5s\u001b[0m 112ms/step - accuracy: 0.9966 - loss: 0.0581\n",
            "Fully trained model's test accuracy: 0.9969512224197388\n",
            "Fully trained model's test loss: 0.058374661952257156\n"
          ]
        }
      ],
      "source": [
        "fully_results = fully_trained_model.evaluate(test_ds, steps=len(y_test)//BATCH_SIZE, verbose=1)\n",
        "print(f\"Fully trained model's test accuracy: {fully_results[1]}\")\n",
        "print(f\"Fully trained model's test loss: {fully_results[0]}\")"
      ]
    },
    {
      "cell_type": "code",
      "execution_count": null,
      "metadata": {},
      "outputs": [
        {
          "name": "stdout",
          "output_type": "stream",
          "text": [
            "\u001b[1m41/41\u001b[0m \u001b[32m━━━━━━━━━━━━━━━━━━━━\u001b[0m\u001b[37m\u001b[0m \u001b[1m3s\u001b[0m 59ms/step\n"
          ]
        }
      ],
      "source": [
        "fully_y_pred_probs = fully_trained_model.predict(test_ds, steps=len(y_test)//BATCH_SIZE, verbose=1)\n",
        "fully_y_pred = np.argmax(fully_y_pred_probs, axis=1)"
      ]
    },
    {
      "cell_type": "code",
      "execution_count": 275,
      "metadata": {},
      "outputs": [
        {
          "data": {
            "image/png": "[encoded data removed]",
            "text/plain": [
              "<Figure size 640x480 with 2 Axes>"
            ]
          },
          "metadata": {},
          "output_type": "display_data"
        }
      ],
      "source": [
        "# Confustion matrix\n",
        "fully_y_test=y_test[:len(fully_y_pred)]\n",
        "cm = confusion_matrix(fully_y_test, fully_y_pred)\n",
        "disp = ConfusionMatrixDisplay(confusion_matrix=cm, display_labels=CLASS_LABELS)\n",
        "disp.plot(cmap = \"viridis\")\n",
        "plt.xticks(rotation=45) \n",
        "plt.show()"
      ]
    },
    {
      "cell_type": "code",
      "execution_count": 276,
      "metadata": {},
      "outputs": [
        {
          "name": "stdout",
          "output_type": "stream",
          "text": [
            "              precision    recall  f1-score   support\n",
            "\n",
            "           0       0.99      1.00      1.00       374\n",
            "           1       1.00      1.00      1.00       368\n",
            "           2       1.00      0.99      1.00       374\n",
            "           3       1.00      1.00      1.00       376\n",
            "           4       1.00      0.99      1.00       377\n",
            "           5       0.99      1.00      1.00       376\n",
            "           6       0.99      1.00      1.00       379\n",
            "\n",
            "    accuracy                           1.00      2624\n",
            "   macro avg       1.00      1.00      1.00      2624\n",
            "weighted avg       1.00      1.00      1.00      2624\n",
            "\n"
          ]
        }
      ],
      "source": [
        "report = classification_report(fully_y_test, fully_y_pred)\n",
        "print(report)"
      ]
    }
  ],
  "metadata": {
    "colab": {
      "provenance": []
    },
    "kernelspec": {
      "display_name": "Python 3",
      "name": "python3"
    },
    "language_info": {
      "codemirror_mode": {
        "name": "ipython",
        "version": 3
      },
      "file_extension": ".py",
      "mimetype": "text/x-python",
      "name": "python",
      "nbconvert_exporter": "python",
      "pygments_lexer": "ipython3",
      "version": "3.11.1"
    }
  },
  "nbformat": 4,
  "nbformat_minor": 0
}
